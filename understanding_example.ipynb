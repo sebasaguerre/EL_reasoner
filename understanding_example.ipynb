{
 "cells": [
  {
   "cell_type": "code",
   "execution_count": 25,
   "metadata": {},
   "outputs": [
    {
     "name": "stdout",
     "output_type": "stream",
     "text": [
      "Loading the ontology...\n",
      "Loaded the ontology!\n",
      "Converting to binary conjunctions\n"
     ]
    }
   ],
   "source": [
    "#! /usr/bin/python\n",
    "\n",
    "from py4j.java_gateway import JavaGateway\n",
    "\n",
    "# connect to the java gateway of dl4python\n",
    "gateway = JavaGateway()\n",
    "\n",
    "# get a parser from OWL files to DL ontologies\n",
    "parser = gateway.getOWLParser()\n",
    "\n",
    "# get a formatter to print in nice DL format\n",
    "formatter = gateway.getSimpleDLFormatter()\n",
    "\n",
    "print(\"Loading the ontology...\")\n",
    "\n",
    "# load an ontology from a file\n",
    "ontology = parser.parseFile(\"pizza.owl\")\n",
    "\n",
    "print(\"Loaded the ontology!\")\n",
    "\n",
    "# IMPORTANT: the algorithm from the lecture assumes conjunctions to always be over two concepts\n",
    "# Ontologies in OWL can however have conjunctions over an arbitrary number of concpets.\n",
    "# The following command changes all conjunctions so that they have at most two conjuncts\n",
    "print(\"Converting to binary conjunctions\")\n",
    "gateway.convertToBinaryConjunctions(ontology)\n"
   ]
  },
  {
   "cell_type": "code",
   "execution_count": 26,
   "metadata": {},
   "outputs": [
    {
     "data": {
      "text/plain": [
       "py4j.java_gateway.JavaObject"
      ]
     },
     "execution_count": 26,
     "metadata": {},
     "output_type": "execute_result"
    }
   ],
   "source": [
    "type(ontology)"
   ]
  },
  {
   "cell_type": "code",
   "execution_count": 27,
   "metadata": {},
   "outputs": [
    {
     "name": "stdout",
     "output_type": "stream",
     "text": [
      "These are the axioms in the TBox:\n",
      "⊤ ⊑ ⩽1hasBase.⊤\n",
      "\"InterestingPizza\" ≡ (⩾3hasTopping.⊤ ⊓ \"Pizza\")\n",
      "\"PrinceCarlo\" ⊑ ∃hasTopping.\"TomatoTopping\"\n",
      "\"MeatTopping\" ⊑ \"PizzaTopping\"\n",
      "\"VegetableTopping\" ⊑ \"PizzaTopping\"\n"
     ]
    },
    {
     "name": "stdout",
     "output_type": "stream",
     "text": [
      "\"Napoletana\" ⊑ ∃hasTopping.\"MozzarellaTopping\"\n",
      "\"MushroomTopping\" ⊑ ∃hasSpiciness.\"Mild\"\n",
      "\"PetitPoisTopping\" ⊑ \"VegetableTopping\"\n",
      "\"SpicyTopping\" ≡ (∃hasSpiciness.\"Hot\" ⊓ \"PizzaTopping\")\n",
      "\"OnionTopping\" ⊑ \"VegetableTopping\"\n",
      "\"American\" ⊑ ∃hasCountryOfOrigin.{America}\n",
      "\"GorgonzolaTopping\" ⊑ \"CheeseTopping\"\n",
      "\"Fiorentina\" ⊑ ∃hasTopping.\"MozzarellaTopping\"\n",
      "\"Rosa\" ⊑ ∀hasTopping.(\"MozzarellaTopping\" ⊔ \"TomatoTopping\" ⊔ \"GorgonzolaTopping\")\n",
      "\"Rosa\" ⊑ NamedPizza\n",
      "disjoint(\"Hot\", \"Medium\", \"Mild\")\n",
      "\"PineKernelTopping\" ⊑ \"NutTopping\"\n",
      "\"SpinachTopping\" ⊑ \"VegetableTopping\"\n",
      "domain(hasBase) = \"Pizza\"\n",
      "\"CaperTopping\" ⊑ \"VegetableTopping\"\n",
      "\"VegetarianPizza\" ≡ (\"Pizza\" ⊓ (¬∃hasTopping.\"MeatTopping\" ⊓ ¬∃hasTopping.\"SeafoodTopping\"))\n",
      "\"Rosa\" ⊑ ∃hasTopping.\"TomatoTopping\"\n",
      "\"FourSeasons\" ⊑ ∃hasTopping.\"MozzarellaTopping\"\n",
      "⊤ ⊑ ⩽1isBaseOf.⊤\n",
      "⊤ ⊑ ⩽1hasSpiciness.⊤\n",
      "\"PolloAdAstra\" ⊑ ∃hasTopping.\"RedOnionTopping\"\n",
      "\"PeperonataTopping\" ⊑ \"PepperTopping\"\n",
      "⊤ ⊑ ⩽1isToppingOf.⊤\n",
      "\"Cajun\" ⊑ NamedPizza\n",
      "\"Siciliana\" ⊑ ∃hasTopping.\"TomatoTopping\"\n",
      "\"Siciliana\" ⊑ ∀hasTopping.(\"MozzarellaTopping\" ⊔ \"OliveTopping\" ⊔ \"TomatoTopping\" ⊔ \"ArtichokeTopping\" ⊔ \"AnchoviesTopping\" ⊔ \"GarlicTopping\" ⊔ \"HamTopping\")\n",
      "\"ArtichokeTopping\" ⊑ \"VegetableTopping\"\n",
      "\"PolloAdAstra\" ⊑ ∃hasTopping.\"MozzarellaTopping\"\n",
      "\"Parmense\" ⊑ ∃hasTopping.\"AsparagusTopping\"\n",
      "\"Siciliana\" ⊑ ∃hasTopping.\"MozzarellaTopping\"\n",
      "\"Caprina\" ⊑ ∃hasTopping.\"GoatsCheeseTopping\"\n",
      "\"Capricciosa\" ⊑ ∃hasTopping.\"HamTopping\"\n",
      "\"Cajun\" ⊑ ∃hasTopping.\"TobascoPepperSauceTopping\"\n",
      "\"American\" ⊑ NamedPizza\n",
      "⊤ ⊑ ⩽1isBaseOf⁻.⊤\n",
      "\"Mushroom\" ⊑ ∀hasTopping.(\"MozzarellaTopping\" ⊔ \"MushroomTopping\" ⊔ \"TomatoTopping\")\n",
      "\"Capricciosa\" ⊑ ∃hasTopping.\"PeperonataTopping\"\n",
      "\"PrinceCarlo\" ⊑ ∀hasTopping.(\"MozzarellaTopping\" ⊔ \"LeekTopping\" ⊔ \"TomatoTopping\" ⊔ \"ParmezanTopping\" ⊔ \"RosemaryTopping\")\n",
      "\"LaReine\" ⊑ ∀hasTopping.(\"MozzarellaTopping\" ⊔ \"MushroomTopping\" ⊔ \"OliveTopping\" ⊔ \"TomatoTopping\" ⊔ \"HamTopping\")\n",
      "\"Giardiniera\" ⊑ ∃hasTopping.\"PeperonataTopping\"\n",
      "\"Soho\" ⊑ ∃hasTopping.\"MozzarellaTopping\"\n",
      "\"Giardiniera\" ⊑ ∃hasTopping.\"SlicedTomatoTopping\"\n",
      "\"Capricciosa\" ⊑ ∃hasTopping.\"OliveTopping\"\n",
      "\"Veneziana\" ⊑ ∃hasTopping.\"PineKernelTopping\"\n",
      "\"CaperTopping\" ⊑ ∃hasSpiciness.\"Mild\"\n",
      "\"Fiorentina\" ⊑ ∃hasTopping.\"TomatoTopping\"\n",
      "\"Mild\" ⊑ \"Spiciness\"\n",
      "\"Fiorentina\" ⊑ ∃hasTopping.\"GarlicTopping\"\n",
      "\"Soho\" ⊑ ∃hasTopping.\"ParmezanTopping\"\n",
      "\"Napoletana\" ⊑ ∃hasTopping.\"TomatoTopping\"\n",
      "\"Napoletana\" ⊑ ∃hasCountryOfOrigin.{Italy}\n",
      "\"NutTopping\" ⊑ ∃hasSpiciness.\"Mild\"\n",
      "\"VegetarianTopping\" ≡ ((\"NutTopping\" ⊔ \"CheeseTopping\" ⊔ \"HerbSpiceTopping\" ⊔ \"VegetableTopping\" ⊔ \"SauceTopping\" ⊔ \"FruitTopping\") ⊓ \"PizzaTopping\")\n",
      "\"NutTopping\" ⊑ \"PizzaTopping\"\n",
      "\"LaReine\" ⊑ ∃hasTopping.\"HamTopping\"\n",
      "\"MixedSeafoodTopping\" ⊑ \"SeafoodTopping\"\n",
      "\"Soho\" ⊑ ∃hasTopping.\"TomatoTopping\"\n",
      "\"VegetarianPizza1\" ≡ (∀hasTopping.\"VegetarianTopping\" ⊓ \"Pizza\")\n",
      "\"FourSeasons\" ⊑ ∀hasTopping.(\"MozzarellaTopping\" ⊔ \"MushroomTopping\" ⊔ \"OliveTopping\" ⊔ \"CaperTopping\" ⊔ \"PeperoniSausageTopping\" ⊔ \"TomatoTopping\" ⊔ \"AnchoviesTopping\")\n",
      "\"ThinAndCrispyPizza\" ≡ (\"Pizza\" ⊓ ∀hasBase.\"ThinAndCrispyBase\")\n",
      "\"Pizza\" ⊑ \"Food\"\n",
      "\"American\" ⊑ ∃hasTopping.\"PeperoniSausageTopping\"\n",
      "\"Giardiniera\" ⊑ ∃hasTopping.\"PetitPoisTopping\"\n",
      "\"PizzaTopping\" ⊑ \"Food\"\n",
      "\"SloppyGiuseppe\" ⊑ ∃hasTopping.\"TomatoTopping\"\n",
      "\"Giardiniera\" ⊑ ∀hasTopping.(\"MozzarellaTopping\" ⊔ \"MushroomTopping\" ⊔ \"OliveTopping\" ⊔ \"LeekTopping\" ⊔ \"SlicedTomatoTopping\" ⊔ \"PetitPoisTopping\" ⊔ \"TomatoTopping\" ⊔ \"PeperonataTopping\")\n",
      "\"Veneziana\" ⊑ ∃hasTopping.\"CaperTopping\"\n",
      "\"RosemaryTopping\" ⊑ ∃hasSpiciness.\"Mild\"\n",
      "\"FruttiDiMare\" ⊑ ∃hasTopping.\"TomatoTopping\"\n",
      "\"AsparagusTopping\" ⊑ \"VegetableTopping\"\n",
      "\"PolloAdAstra\" ⊑ ∃hasTopping.\"SweetPepperTopping\"\n",
      "\"PrinceCarlo\" ⊑ ∃hasTopping.\"RosemaryTopping\"\n",
      "\"SundriedTomatoTopping\" ⊑ \"TomatoTopping\"\n",
      "\"AmericanHot\" ⊑ ∀hasTopping.(\"MozzarellaTopping\" ⊔ \"JalapenoPepperTopping\" ⊔ \"PeperoniSausageTopping\" ⊔ \"TomatoTopping\" ⊔ \"HotGreenPepperTopping\")\n",
      "\"IceCream\" ⊑ ∃hasTopping.\"FruitTopping\"\n",
      "\"Spiciness\" ⊑ \"ValuePartition\"\n",
      "\"RocketTopping\" ⊑ \"VegetableTopping\"\n",
      "\"LeekTopping\" ⊑ ∃hasSpiciness.\"Mild\"\n",
      "\"FourSeasons\" ⊑ ∃hasTopping.\"AnchoviesTopping\"\n",
      "\"CheeseTopping\" ⊑ \"PizzaTopping\"\n",
      "\"Parmense\" ⊑ ∃hasTopping.\"HamTopping\"\n",
      "\"SpinachTopping\" ⊑ ∃hasSpiciness.\"Mild\"\n",
      "\"IceCream\" ⊑ \"Food\"\n",
      "\"QuattroFormaggi\" ⊑ ∀hasTopping.(\"TomatoTopping\" ⊔ \"FourCheesesTopping\")\n",
      "\"RocketTopping\" ⊑ ∃hasSpiciness.\"Medium\"\n",
      "\"Napoletana\" ⊑ ∃hasTopping.\"CaperTopping\"\n",
      "\"HamTopping\" ⊑ \"MeatTopping\"\n",
      "\"GoatsCheeseTopping\" ⊑ \"CheeseTopping\"\n",
      "\"Veneziana\" ⊑ ∃hasTopping.\"TomatoTopping\"\n",
      "\"TobascoPepperSauceTopping\" ⊑ \"SauceTopping\"\n",
      "\"Veneziana\" ⊑ ∃hasCountryOfOrigin.{Italy}\n",
      "\"Giardiniera\" ⊑ ∃hasTopping.\"MushroomTopping\"\n",
      "\"Country\" ≡ ({America, England, France, Germany, Italy} ⊓ \"DomainThing\")\n",
      "\"AsparagusTopping\" ⊑ ∃hasSpiciness.\"Mild\"\n",
      "\"PeperonataTopping\" ⊑ ∃hasSpiciness.\"Medium\"\n",
      "\"MozzarellaTopping\" ⊑ \"CheeseTopping\"\n",
      "\"ParmezanTopping\" ⊑ ∃hasSpiciness.\"Mild\"\n",
      "\"Rosa\" ⊑ ∃hasTopping.\"MozzarellaTopping\"\n",
      "\"Cajun\" ⊑ ∃hasTopping.\"PeperonataTopping\"\n",
      "\"FruttiDiMare\" ⊑ ∃hasTopping.\"GarlicTopping\"\n",
      "\"AmericanHot\" ⊑ ∃hasCountryOfOrigin.{America}\n",
      "\"FourCheesesTopping\" ⊑ \"CheeseTopping\"\n",
      "\"American\" ⊑ ∀hasTopping.(\"MozzarellaTopping\" ⊔ \"PeperoniSausageTopping\" ⊔ \"TomatoTopping\")\n",
      "disjoint(\"DeepPanBase\", \"ThinAndCrispyBase\")\n",
      "\"FourSeasons\" ⊑ ∃hasTopping.\"MushroomTopping\"\n",
      "\"OnionTopping\" ⊑ ∃hasSpiciness.\"Medium\"\n",
      "range(hasIngredient) = \"Food\"\n",
      "domain(hasIngredient) = \"Food\"\n",
      "disjoint(\"ArtichokeTopping\", \"AsparagusTopping\", \"CaperTopping\", \"GarlicTopping\", \"LeekTopping\", \"MushroomTopping\", \"OliveTopping\", \"OnionTopping\", \"PepperTopping\", \"PetitPoisTopping\", \"RocketTopping\", \"SpinachTopping\", \"TomatoTopping\")\n",
      "\"PolloAdAstra\" ⊑ ∃hasTopping.\"GarlicTopping\"\n",
      "\"SloppyGiuseppe\" ⊑ ∃hasTopping.\"GreenPepperTopping\"\n",
      "\"Hot\" ⊑ \"Spiciness\"\n",
      "\"Giardiniera\" ⊑ ∃hasTopping.\"MozzarellaTopping\"\n",
      "\"PrinceCarlo\" ⊑ ∃hasTopping.\"LeekTopping\"\n",
      "\"FruttiDiMare\" ⊑ ∀hasTopping.(\"MixedSeafoodTopping\" ⊔ \"TomatoTopping\" ⊔ \"GarlicTopping\")\n",
      "\"Fiorentina\" ⊑ NamedPizza\n",
      "\"VegetarianPizza2\" ≡ (∀hasTopping.(\"NutTopping\" ⊔ \"CheeseTopping\" ⊔ \"HerbSpiceTopping\" ⊔ \"VegetableTopping\" ⊔ \"SauceTopping\" ⊔ \"FruitTopping\") ⊓ \"Pizza\")\n",
      "\"Siciliana\" ⊑ ∃hasTopping.\"AnchoviesTopping\"\n",
      "\"SlicedTomatoTopping\" ⊑ ∃hasSpiciness.\"Mild\"\n",
      "\"UnclosedPizza\" ⊑ ∃hasTopping.\"MozzarellaTopping\"\n",
      "\"FourSeasons\" ⊑ ∃hasTopping.\"PeperoniSausageTopping\"\n",
      "disjoint(\"SlicedTomatoTopping\", \"SundriedTomatoTopping\")\n",
      "\"AmericanHot\" ⊑ NamedPizza\n",
      "\"ThinAndCrispyBase\" ⊑ \"PizzaBase\"\n",
      "\"SauceTopping\" ⊑ \"PizzaTopping\"\n",
      "\"Veneziana\" ⊑ ∃hasTopping.\"MozzarellaTopping\"\n",
      "\"ParmaHamTopping\" ⊑ \"HamTopping\"\n",
      "\"Siciliana\" ⊑ NamedPizza\n",
      "\"Food\" ⊑ \"DomainThing\"\n",
      "domain(hasTopping) = \"Pizza\"\n",
      "\"QuattroFormaggi\" ⊑ NamedPizza\n",
      "disjoint(\"DomainThing\", \"ValuePartition\")\n",
      "\"Giardiniera\" ⊑ NamedPizza\n",
      "\"CheesyPizza\" ≡ (\"Pizza\" ⊓ ∃hasTopping.\"CheeseTopping\")\n",
      "\"JalapenoPepperTopping\" ⊑ ∃hasSpiciness.\"Hot\"\n",
      "\"Fiorentina\" ⊑ ∃hasTopping.\"OliveTopping\"\n",
      "\"GorgonzolaTopping\" ⊑ ∃hasSpiciness.\"Mild\"\n",
      "\"CheesyVegetableTopping\" ⊑ \"VegetableTopping\"\n",
      "\"Soho\" ⊑ ∃hasTopping.\"OliveTopping\"\n",
      "\"Caprina\" ⊑ NamedPizza\n",
      "\"AnchoviesTopping\" ⊑ \"SeafoodTopping\"\n",
      "\"ParmezanTopping\" ⊑ \"CheeseTopping\"\n",
      "\"PolloAdAstra\" ⊑ ∃hasTopping.\"TomatoTopping\"\n",
      "\"PolloAdAstra\" ⊑ ∃hasTopping.\"CajunSpiceTopping\"\n",
      "\"Mushroom\" ⊑ ∃hasTopping.\"MushroomTopping\"\n",
      "NamedPizza ⊑ \"Pizza\"\n",
      "\"Napoletana\" ⊑ NamedPizza\n",
      "\"FourCheesesTopping\" ⊑ ∃hasSpiciness.\"Mild\"\n",
      "\"GreenPepperTopping\" ⊑ \"PepperTopping\"\n",
      "\"SundriedTomatoTopping\" ⊑ ∃hasSpiciness.\"Mild\"\n",
      "disjoint(\"NonVegetarianPizza\", \"VegetarianPizza\")\n",
      "\"American\" ⊑ ∃hasTopping.\"MozzarellaTopping\"\n",
      "\"QuattroFormaggi\" ⊑ ∃hasTopping.\"FourCheesesTopping\"\n",
      "\"Soho\" ⊑ ∀hasTopping.(\"MozzarellaTopping\" ⊔ \"OliveTopping\" ⊔ \"RocketTopping\" ⊔ \"TomatoTopping\" ⊔ \"GarlicTopping\" ⊔ \"ParmezanTopping\")\n",
      "\"RealItalianPizza\" ⊑ ∀hasBase.\"ThinAndCrispyBase\"\n",
      "\"SloppyGiuseppe\" ⊑ ∃hasTopping.\"OnionTopping\"\n",
      "\"TomatoTopping\" ⊑ ∃hasSpiciness.\"Mild\"\n",
      "\"Mushroom\" ⊑ ∃hasTopping.\"TomatoTopping\"\n",
      "\"Siciliana\" ⊑ ∃hasTopping.\"GarlicTopping\"\n",
      "\"GoatsCheeseTopping\" ⊑ ∃hasSpiciness.\"Mild\"\n",
      "\"AmericanHot\" ⊑ ∃hasTopping.\"MozzarellaTopping\"\n",
      "\"Capricciosa\" ⊑ ∀hasTopping.(\"MozzarellaTopping\" ⊔ \"OliveTopping\" ⊔ \"CaperTopping\" ⊔ \"TomatoTopping\" ⊔ \"PeperonataTopping\" ⊔ \"AnchoviesTopping\" ⊔ \"HamTopping\")\n",
      "disjoint(\"GreenPepperTopping\", \"JalapenoPepperTopping\", \"PeperonataTopping\", \"SweetPepperTopping\")\n",
      "\"SloppyGiuseppe\" ⊑ ∃hasTopping.\"HotSpicedBeefTopping\"\n",
      "\"FourSeasons\" ⊑ ∃hasTopping.\"TomatoTopping\"\n",
      "disjoint(\"FourCheesesTopping\", \"GoatsCheeseTopping\", \"GorgonzolaTopping\", \"MozzarellaTopping\", \"ParmezanTopping\")\n",
      "\"MeatyPizza\" ≡ (\"Pizza\" ⊓ ∃hasTopping.\"MeatTopping\")\n",
      "\"Caprina\" ⊑ ∃hasTopping.\"MozzarellaTopping\"\n",
      "\"Parmense\" ⊑ ∀hasTopping.(\"MozzarellaTopping\" ⊔ \"TomatoTopping\" ⊔ \"AsparagusTopping\" ⊔ \"ParmezanTopping\" ⊔ \"HamTopping\")\n",
      "\"FruttiDiMare\" ⊑ NamedPizza\n",
      "\"Capricciosa\" ⊑ ∃hasTopping.\"MozzarellaTopping\"\n",
      "\"Veneziana\" ⊑ ∃hasTopping.\"OliveTopping\"\n",
      "\"Napoletana\" ⊑ ∀hasTopping.(\"MozzarellaTopping\" ⊔ \"OliveTopping\" ⊔ \"CaperTopping\" ⊔ \"TomatoTopping\" ⊔ \"AnchoviesTopping\")\n",
      "\"CajunSpiceTopping\" ⊑ ∃hasSpiciness.\"Hot\"\n",
      "⊤ ⊑ ⩽1hasBase⁻.⊤\n",
      "\"LaReine\" ⊑ ∃hasTopping.\"MushroomTopping\"\n",
      "\"FourSeasons\" ⊑ ∃hasTopping.\"OliveTopping\"\n",
      "\"Margherita\" ⊑ ∃hasTopping.\"TomatoTopping\"\n",
      "\"Giardiniera\" ⊑ ∃hasTopping.\"LeekTopping\"\n",
      "\"Mushroom\" ⊑ NamedPizza\n",
      "\"FruttiDiMare\" ⊑ ∃hasTopping.\"MixedSeafoodTopping\"\n",
      "disjoint(\"CajunSpiceTopping\", \"RosemaryTopping\")\n",
      "\"QuattroFormaggi\" ⊑ ∃hasTopping.\"TomatoTopping\"\n",
      "range(hasSpiciness) = \"Spiciness\"\n",
      "\"JalapenoPepperTopping\" ⊑ \"PepperTopping\"\n",
      "\"Capricciosa\" ⊑ ∃hasTopping.\"TomatoTopping\"\n",
      "\"LaReine\" ⊑ ∃hasTopping.\"OliveTopping\"\n",
      "\"LeekTopping\" ⊑ \"VegetableTopping\"\n",
      "\"PrinceCarlo\" ⊑ NamedPizza\n",
      "\"Cajun\" ⊑ ∃hasTopping.\"MozzarellaTopping\"\n",
      "\"SloppyGiuseppe\" ⊑ NamedPizza\n",
      "disjoint(\"American\", \"AmericanHot\", \"Cajun\", \"Capricciosa\", \"Caprina\", \"Fiorentina\", \"FourSeasons\", \"FruttiDiMare\", \"Giardiniera\", \"LaReine\", \"Margherita\", \"Mushroom\", \"Napoletana\", \"Parmense\", \"PolloAdAstra\", \"PrinceCarlo\", \"QuattroFormaggi\", \"Rosa\", \"Siciliana\", \"SloppyGiuseppe\", \"Soho\", \"UnclosedPizza\", \"Veneziana\")\n",
      "\"RealItalianPizza\" ≡ (∃hasCountryOfOrigin.{Italy} ⊓ \"Pizza\")\n",
      "\"ChickenTopping\" ⊑ ∃hasSpiciness.\"Mild\"\n",
      "\"Soho\" ⊑ NamedPizza\n",
      "\"AmericanHot\" ⊑ ∃hasTopping.\"PeperoniSausageTopping\"\n",
      "\"Mushroom\" ⊑ ∃hasTopping.\"MozzarellaTopping\"\n",
      "\"Siciliana\" ⊑ ∃hasTopping.\"OliveTopping\"\n",
      "\"ParmaHamTopping\" ⊑ ∃hasSpiciness.\"Mild\"\n",
      "\"Veneziana\" ⊑ ∀hasTopping.(\"MozzarellaTopping\" ⊔ \"OliveTopping\" ⊔ \"CaperTopping\" ⊔ \"TomatoTopping\" ⊔ \"SultanaTopping\" ⊔ \"OnionTopping\" ⊔ \"PineKernelTopping\")\n",
      "\"Cajun\" ⊑ ∀hasTopping.(\"MozzarellaTopping\" ⊔ \"TomatoTopping\" ⊔ \"PrawnsTopping\" ⊔ \"PeperonataTopping\" ⊔ \"OnionTopping\" ⊔ \"TobascoPepperSauceTopping\")\n",
      "\"PolloAdAstra\" ⊑ NamedPizza\n",
      "\"Margherita\" ⊑ ∀hasTopping.(\"MozzarellaTopping\" ⊔ \"TomatoTopping\")\n",
      "\"Fiorentina\" ⊑ ∃hasTopping.\"ParmezanTopping\"\n",
      "\"SloppyGiuseppe\" ⊑ ∀hasTopping.(\"MozzarellaTopping\" ⊔ \"TomatoTopping\" ⊔ \"GreenPepperTopping\" ⊔ \"HotSpicedBeefTopping\" ⊔ \"OnionTopping\")\n",
      "\"Siciliana\" ⊑ ∃hasTopping.\"HamTopping\"\n",
      "\"OliveTopping\" ⊑ \"VegetableTopping\"\n",
      "\"Napoletana\" ⊑ ∃hasTopping.\"AnchoviesTopping\"\n",
      "\"Margherita\" ⊑ ∃hasTopping.\"MozzarellaTopping\"\n",
      "\"AmericanHot\" ⊑ ∃hasTopping.\"JalapenoPepperTopping\"\n",
      "\"Napoletana\" ⊑ ∃hasTopping.\"OliveTopping\"\n",
      "\"Caprina\" ⊑ ∃hasTopping.\"TomatoTopping\"\n",
      "\"MozzarellaTopping\" ⊑ ∃hasSpiciness.\"Mild\"\n",
      "\"Parmense\" ⊑ ∃hasTopping.\"TomatoTopping\"\n",
      "\"MushroomTopping\" ⊑ \"VegetableTopping\"\n",
      "\"Siciliana\" ⊑ ∃hasTopping.\"ArtichokeTopping\"\n",
      "\"SweetPepperTopping\" ⊑ ∃hasSpiciness.\"Mild\"\n",
      "\"HotSpicedBeefTopping\" ⊑ \"MeatTopping\"\n",
      "\"SlicedTomatoTopping\" ⊑ \"TomatoTopping\"\n",
      "\"FourSeasons\" ⊑ ∃hasTopping.\"CaperTopping\"\n",
      "\"Pizza\" ⊑ ∃hasBase.\"PizzaBase\"\n",
      "\"PrinceCarlo\" ⊑ ∃hasTopping.\"ParmezanTopping\"\n",
      "\"UnclosedPizza\" ⊑ \"Pizza\"\n",
      "\"American\" ⊑ ∃hasTopping.\"TomatoTopping\"\n",
      "\"Caprina\" ⊑ ∃hasTopping.\"SundriedTomatoTopping\"\n",
      "\"NonVegetarianPizza\" ≡ (\"Pizza\" ⊓ ¬\"VegetarianPizza\")\n",
      "\"Capricciosa\" ⊑ ∃hasTopping.\"CaperTopping\"\n",
      "\"Capricciosa\" ⊑ ∃hasTopping.\"AnchoviesTopping\"\n",
      "\"PrinceCarlo\" ⊑ ∃hasTopping.\"MozzarellaTopping\"\n",
      "\"PeperoniSausageTopping\" ⊑ \"MeatTopping\"\n",
      "⊤ ⊑ ⩽1hasTopping⁻.⊤\n",
      "\"PolloAdAstra\" ⊑ ∃hasTopping.\"ChickenTopping\"\n",
      "\"LaReine\" ⊑ NamedPizza\n",
      "\"Soho\" ⊑ ∃hasTopping.\"RocketTopping\"\n",
      "\"HotSpicedBeefTopping\" ⊑ ∃hasSpiciness.\"Hot\"\n",
      "\"Giardiniera\" ⊑ ∃hasTopping.\"OliveTopping\"\n",
      "\"PizzaBase\" ⊑ \"Food\"\n",
      "\"Parmense\" ⊑ ∃hasTopping.\"MozzarellaTopping\"\n",
      "\"PeperoniSausageTopping\" ⊑ ∃hasSpiciness.\"Medium\"\n",
      "\"Cajun\" ⊑ ∃hasTopping.\"PrawnsTopping\"\n",
      "\"HerbSpiceTopping\" ⊑ \"PizzaTopping\"\n",
      "\"OliveTopping\" ⊑ ∃hasSpiciness.\"Mild\"\n",
      "disjoint(\"IceCream\", \"Pizza\", \"PizzaBase\", \"PizzaTopping\")\n",
      "\"FourSeasons\" ⊑ NamedPizza\n",
      "\"RedOnionTopping\" ⊑ \"OnionTopping\"\n",
      "\"ChickenTopping\" ⊑ \"MeatTopping\"\n",
      "\"Cajun\" ⊑ ∃hasTopping.\"OnionTopping\"\n",
      "\"SeafoodTopping\" ⊑ \"PizzaTopping\"\n",
      "\"Veneziana\" ⊑ NamedPizza\n",
      "\"DeepPanBase\" ⊑ \"PizzaBase\"\n",
      "\"AmericanHot\" ⊑ ∃hasTopping.\"HotGreenPepperTopping\"\n",
      "\"TobascoPepperSauceTopping\" ⊑ ∃hasSpiciness.\"Hot\"\n",
      "\"HotGreenPepperTopping\" ⊑ \"GreenPepperTopping\"\n",
      "\"SultanaTopping\" ⊑ ∃hasSpiciness.\"Medium\"\n",
      "\"Fiorentina\" ⊑ ∀hasTopping.(\"MozzarellaTopping\" ⊔ \"OliveTopping\" ⊔ \"TomatoTopping\" ⊔ \"GarlicTopping\" ⊔ \"ParmezanTopping\" ⊔ \"SpinachTopping\")\n",
      "\"Parmense\" ⊑ NamedPizza\n",
      "\"Spiciness\" ≡ (\"Hot\" ⊔ \"Medium\" ⊔ \"Mild\")\n",
      "\"AmericanHot\" ⊑ ∃hasTopping.\"TomatoTopping\"\n",
      "\"ArtichokeTopping\" ⊑ ∃hasSpiciness.\"Mild\"\n",
      "disjoint(\"ChickenTopping\", \"HamTopping\", \"HotSpicedBeefTopping\", \"PeperoniSausageTopping\")\n",
      "\"PrawnsTopping\" ⊑ \"SeafoodTopping\"\n",
      "\"GarlicTopping\" ⊑ ∃hasSpiciness.\"Medium\"\n",
      "\"PolloAdAstra\" ⊑ ∀hasTopping.(\"MozzarellaTopping\" ⊔ \"SweetPepperTopping\" ⊔ \"TomatoTopping\" ⊔ \"CajunSpiceTopping\" ⊔ \"RedOnionTopping\" ⊔ \"GarlicTopping\" ⊔ \"ChickenTopping\")\n",
      "\"LaReine\" ⊑ ∃hasTopping.\"MozzarellaTopping\"\n",
      "\"Caprina\" ⊑ ∀hasTopping.(\"MozzarellaTopping\" ⊔ \"TomatoTopping\" ⊔ \"GoatsCheeseTopping\" ⊔ \"SundriedTomatoTopping\")\n",
      "\"HotGreenPepperTopping\" ⊑ ∃hasSpiciness.\"Hot\"\n",
      "\"SpicyPizzaEquivalent\" ≡ (\"Pizza\" ⊓ ∃hasTopping.(∃hasSpiciness.\"Hot\" ⊓ \"PizzaTopping\"))\n",
      "\"Giardiniera\" ⊑ ∃hasTopping.\"TomatoTopping\"\n",
      "\"Cajun\" ⊑ ∃hasTopping.\"TomatoTopping\"\n",
      "\"GarlicTopping\" ⊑ \"VegetableTopping\"\n",
      "\"SpicyPizza\" ≡ (\"Pizza\" ⊓ ∃hasTopping.\"SpicyTopping\")\n",
      "\"Veneziana\" ⊑ ∃hasTopping.\"SultanaTopping\"\n",
      "\"SeafoodTopping\" ⊑ ∃hasSpiciness.\"Mild\"\n",
      "disjoint(\"CheeseTopping\", \"SeafoodTopping\", \"FruitTopping\", \"HerbSpiceTopping\", \"MeatTopping\", \"NutTopping\", \"SauceTopping\", \"VegetableTopping\")\n",
      "\"CheesyVegetableTopping\" ⊑ \"CheeseTopping\"\n",
      "\"TomatoTopping\" ⊑ \"VegetableTopping\"\n",
      "disjoint(\"AnchoviesTopping\", \"MixedSeafoodTopping\", \"PrawnsTopping\")\n",
      "\"Veneziana\" ⊑ ∃hasTopping.\"OnionTopping\"\n",
      "\"Fiorentina\" ⊑ ∃hasTopping.\"SpinachTopping\"\n",
      "\"LaReine\" ⊑ ∃hasTopping.\"TomatoTopping\"\n",
      "\"Medium\" ⊑ \"Spiciness\"\n",
      "\"RosemaryTopping\" ⊑ \"HerbSpiceTopping\"\n",
      "\"Soho\" ⊑ ∃hasTopping.\"GarlicTopping\"\n",
      "\"PepperTopping\" ⊑ \"VegetableTopping\"\n",
      "range(hasTopping) = \"PizzaTopping\"\n",
      "\"Capricciosa\" ⊑ NamedPizza\n",
      "\"SultanaTopping\" ⊑ \"FruitTopping\"\n",
      "\"Margherita\" ⊑ NamedPizza\n",
      "range(hasBase) = \"PizzaBase\"\n",
      "\"SloppyGiuseppe\" ⊑ ∃hasTopping.\"MozzarellaTopping\"\n",
      "\"SweetPepperTopping\" ⊑ \"PepperTopping\"\n",
      "\"FruitTopping\" ⊑ \"PizzaTopping\"\n",
      "\"MozzarellaTopping\" ⊑ ∃hasCountryOfOrigin.{Italy}\n",
      "\"CajunSpiceTopping\" ⊑ \"HerbSpiceTopping\"\n",
      "\"Parmense\" ⊑ ∃hasTopping.\"ParmezanTopping\"\n",
      "\"PetitPoisTopping\" ⊑ ∃hasSpiciness.\"Mild\"\n",
      "\"Rosa\" ⊑ ∃hasTopping.\"GorgonzolaTopping\"\n"
     ]
    }
   ],
   "source": [
    "# get the TBox axioms\n",
    "tbox = ontology.tbox()\n",
    "axioms = tbox.getAxioms()\n",
    "\n",
    "print(\"These are the axioms in the TBox:\")\n",
    "for axiom in axioms:\n",
    "    print(formatter.format(axiom))"
   ]
  },
  {
   "cell_type": "code",
   "execution_count": 28,
   "metadata": {},
   "outputs": [
    {
     "name": "stdout",
     "output_type": "stream",
     "text": [
      "\n",
      "There are  227  concepts occurring in the ontology\n",
      "These are the concepts occurring in the ontology:\n",
      "['∃hasTopping.\"CheeseTopping\"', '(\"MozzarellaTopping\" ⊔ \"TomatoTopping\" ⊔ \"PrawnsTopping\" ⊔ \"PeperonataTopping\" ⊔ \"OnionTopping\" ⊔ \"TobascoPepperSauceTopping\")', '\"American\"', '\"SpicyPizzaEquivalent\"', '∀hasTopping.(\"MozzarellaTopping\" ⊔ \"MushroomTopping\" ⊔ \"OliveTopping\" ⊔ \"LeekTopping\" ⊔ \"SlicedTomatoTopping\" ⊔ \"PetitPoisTopping\" ⊔ \"TomatoTopping\" ⊔ \"PeperonataTopping\")', '∀hasTopping.(\"MozzarellaTopping\" ⊔ \"TomatoTopping\" ⊔ \"AsparagusTopping\" ⊔ \"ParmezanTopping\" ⊔ \"HamTopping\")', '∀hasTopping.(\"MozzarellaTopping\" ⊔ \"TomatoTopping\" ⊔ \"PrawnsTopping\" ⊔ \"PeperonataTopping\" ⊔ \"OnionTopping\" ⊔ \"TobascoPepperSauceTopping\")', '\"PizzaBase\"', '\"NutTopping\"', '¬∃hasTopping.\"SeafoodTopping\"', '\"FruitTopping\"', '\"PeperonataTopping\"', '\"FruttiDiMare\"', '\"Spiciness\"', '(\"MozzarellaTopping\" ⊔ \"MushroomTopping\" ⊔ \"TomatoTopping\")', '\"SauceTopping\"', '∀hasTopping.(\"MozzarellaTopping\" ⊔ \"MushroomTopping\" ⊔ \"OliveTopping\" ⊔ \"TomatoTopping\" ⊔ \"HamTopping\")', '\"HotGreenPepperTopping\"', '∀hasTopping.(\"MixedSeafoodTopping\" ⊔ \"TomatoTopping\" ⊔ \"GarlicTopping\")', '¬\"VegetarianPizza\"', '\"PineKernelTopping\"', '∃hasTopping.\"PetitPoisTopping\"', '(\"Pizza\" ⊓ ∀hasBase.\"ThinAndCrispyBase\")', '\"MeatTopping\"', '⩽1isToppingOf.⊤', '∃hasTopping.\"GoatsCheeseTopping\"', '((\"NutTopping\" ⊔ \"CheeseTopping\" ⊔ \"HerbSpiceTopping\" ⊔ \"VegetableTopping\" ⊔ \"SauceTopping\" ⊔ \"FruitTopping\") ⊓ \"PizzaTopping\")', '\"HamTopping\"', '(\"MozzarellaTopping\" ⊔ \"JalapenoPepperTopping\" ⊔ \"PeperoniSausageTopping\" ⊔ \"TomatoTopping\" ⊔ \"HotGreenPepperTopping\")', '\"ThinAndCrispyPizza\"', '∃hasTopping.\"HotSpicedBeefTopping\"', '(\"TomatoTopping\" ⊔ \"FourCheesesTopping\")', 'NamedPizza', '∃hasTopping.\"SundriedTomatoTopping\"', '\"PrinceCarlo\"', '∃hasTopping.\"SeafoodTopping\"', '∃hasTopping.\"MozzarellaTopping\"', '∃hasTopping.\"GarlicTopping\"', '∀hasTopping.(\"MozzarellaTopping\" ⊔ \"JalapenoPepperTopping\" ⊔ \"PeperoniSausageTopping\" ⊔ \"TomatoTopping\" ⊔ \"HotGreenPepperTopping\")', '∃hasTopping.\"GreenPepperTopping\"', '\"PrawnsTopping\"', '{Italy}', '⩽1isBaseOf.⊤', '(\"MozzarellaTopping\" ⊔ \"TomatoTopping\" ⊔ \"GorgonzolaTopping\")', '\"SpinachTopping\"', '\"SloppyGiuseppe\"', '(∃hasSpiciness.\"Hot\" ⊓ \"PizzaTopping\")', '(\"MozzarellaTopping\" ⊔ \"OliveTopping\" ⊔ \"CaperTopping\" ⊔ \"TomatoTopping\" ⊔ \"SultanaTopping\" ⊔ \"OnionTopping\" ⊔ \"PineKernelTopping\")', '\"NonVegetarianPizza\"', '(\"MozzarellaTopping\" ⊔ \"TomatoTopping\" ⊔ \"AsparagusTopping\" ⊔ \"ParmezanTopping\" ⊔ \"HamTopping\")', '\"Capricciosa\"', '\"TomatoTopping\"', '∃hasTopping.\"TomatoTopping\"', '∃hasTopping.\"RedOnionTopping\"', '∃hasTopping.\"AnchoviesTopping\"', '(\"Pizza\" ⊓ ∃hasTopping.\"SpicyTopping\")', '\"VegetarianPizza2\"', '\"SundriedTomatoTopping\"', '\"RosemaryTopping\"', '\"RealItalianPizza\"', '∀hasTopping.(\"MozzarellaTopping\" ⊔ \"LeekTopping\" ⊔ \"TomatoTopping\" ⊔ \"ParmezanTopping\" ⊔ \"RosemaryTopping\")', '\"Parmense\"', '(\"Pizza\" ⊓ ∃hasTopping.\"CheeseTopping\")', '∃hasTopping.\"AsparagusTopping\"', '∃hasTopping.\"SweetPepperTopping\"', '∃hasTopping.\"PineKernelTopping\"', '({America, England, France, Germany, Italy} ⊓ \"DomainThing\")', '(\"Pizza\" ⊓ (¬∃hasTopping.\"MeatTopping\" ⊓ ¬∃hasTopping.\"SeafoodTopping\"))', '∃hasTopping.\"ChickenTopping\"', '∃hasTopping.\"TobascoPepperSauceTopping\"', '\"QuattroFormaggi\"', '(\"MozzarellaTopping\" ⊔ \"LeekTopping\" ⊔ \"TomatoTopping\" ⊔ \"ParmezanTopping\" ⊔ \"RosemaryTopping\")', '∃hasTopping.\"OnionTopping\"', '\"VegetableTopping\"', '(\"MozzarellaTopping\" ⊔ \"OliveTopping\" ⊔ \"TomatoTopping\" ⊔ \"GarlicTopping\" ⊔ \"ParmezanTopping\" ⊔ \"SpinachTopping\")', '\"ChickenTopping\"', '(∃hasCountryOfOrigin.{Italy} ⊓ \"Pizza\")', '∃hasTopping.\"MixedSeafoodTopping\"', '⊤', '¬∃hasTopping.\"MeatTopping\"', '∃hasTopping.\"LeekTopping\"', '\"PeperoniSausageTopping\"', '(\"MozzarellaTopping\" ⊔ \"PeperoniSausageTopping\" ⊔ \"TomatoTopping\")', '∃hasTopping.\"SultanaTopping\"', '\"ThinAndCrispyBase\"', '∀hasTopping.(\"MozzarellaTopping\" ⊔ \"OliveTopping\" ⊔ \"TomatoTopping\" ⊔ \"GarlicTopping\" ⊔ \"ParmezanTopping\" ⊔ \"SpinachTopping\")', '∃hasCountryOfOrigin.{America}', '\"Medium\"', '∃hasTopping.\"HamTopping\"', '\"GoatsCheeseTopping\"', '∃hasTopping.\"FruitTopping\"', '(\"MozzarellaTopping\" ⊔ \"OliveTopping\" ⊔ \"TomatoTopping\" ⊔ \"ArtichokeTopping\" ⊔ \"AnchoviesTopping\" ⊔ \"GarlicTopping\" ⊔ \"HamTopping\")', '\"SpicyPizza\"', '{America, England, France, Germany, Italy}', '∃hasTopping.\"MeatTopping\"', '\"PetitPoisTopping\"', '\"ParmezanTopping\"', '(\"MixedSeafoodTopping\" ⊔ \"TomatoTopping\" ⊔ \"GarlicTopping\")', '\"AmericanHot\"', '(\"MozzarellaTopping\" ⊔ \"SweetPepperTopping\" ⊔ \"TomatoTopping\" ⊔ \"CajunSpiceTopping\" ⊔ \"RedOnionTopping\" ⊔ \"GarlicTopping\" ⊔ \"ChickenTopping\")', '(\"MozzarellaTopping\" ⊔ \"MushroomTopping\" ⊔ \"OliveTopping\" ⊔ \"CaperTopping\" ⊔ \"PeperoniSausageTopping\" ⊔ \"TomatoTopping\" ⊔ \"AnchoviesTopping\")', '⩽1isBaseOf⁻.⊤', '\"ValuePartition\"', '(⩾3hasTopping.⊤ ⊓ \"Pizza\")', '∀hasTopping.(\"MozzarellaTopping\" ⊔ \"TomatoTopping\")', '\"CheesyPizza\"', '∀hasTopping.(\"MozzarellaTopping\" ⊔ \"TomatoTopping\" ⊔ \"GreenPepperTopping\" ⊔ \"HotSpicedBeefTopping\" ⊔ \"OnionTopping\")', '∀hasTopping.(\"MozzarellaTopping\" ⊔ \"MushroomTopping\" ⊔ \"OliveTopping\" ⊔ \"CaperTopping\" ⊔ \"PeperoniSausageTopping\" ⊔ \"TomatoTopping\" ⊔ \"AnchoviesTopping\")', '\"VegetarianPizza\"', '∃hasBase.\"PizzaBase\"', '\"VegetarianPizza1\"', '(\"MozzarellaTopping\" ⊔ \"MushroomTopping\" ⊔ \"OliveTopping\" ⊔ \"TomatoTopping\" ⊔ \"HamTopping\")', '\"DomainThing\"', '∀hasTopping.(\"MozzarellaTopping\" ⊔ \"OliveTopping\" ⊔ \"TomatoTopping\" ⊔ \"ArtichokeTopping\" ⊔ \"AnchoviesTopping\" ⊔ \"GarlicTopping\" ⊔ \"HamTopping\")', '⩽1hasSpiciness.⊤', '⩽1hasBase⁻.⊤', '∃hasTopping.\"HotGreenPepperTopping\"', '\"SlicedTomatoTopping\"', '(¬∃hasTopping.\"MeatTopping\" ⊓ ¬∃hasTopping.\"SeafoodTopping\")', '\"GorgonzolaTopping\"', '\"OnionTopping\"', '\"HerbSpiceTopping\"', '\"TobascoPepperSauceTopping\"', '\"GarlicTopping\"', '\"ParmaHamTopping\"', '\"UnclosedPizza\"', '∀hasTopping.(\"MozzarellaTopping\" ⊔ \"MushroomTopping\" ⊔ \"TomatoTopping\")', '(\"Pizza\" ⊓ ∃hasTopping.(∃hasSpiciness.\"Hot\" ⊓ \"PizzaTopping\"))', '(\"MozzarellaTopping\" ⊔ \"OliveTopping\" ⊔ \"CaperTopping\" ⊔ \"TomatoTopping\" ⊔ \"PeperonataTopping\" ⊔ \"AnchoviesTopping\" ⊔ \"HamTopping\")', '\"Pizza\"', '\"RocketTopping\"', '\"CheeseTopping\"', '\"JalapenoPepperTopping\"', '∃hasTopping.\"ParmezanTopping\"', '\"Fiorentina\"', '\"InterestingPizza\"', '∀hasTopping.(\"MozzarellaTopping\" ⊔ \"TomatoTopping\" ⊔ \"GoatsCheeseTopping\" ⊔ \"SundriedTomatoTopping\")', '∀hasTopping.(\"MozzarellaTopping\" ⊔ \"PeperoniSausageTopping\" ⊔ \"TomatoTopping\")', '\"FourCheesesTopping\"', '\"DeepPanBase\"', '∀hasTopping.\"VegetarianTopping\"', '\"Soho\"', '\"Country\"', '⩽1hasTopping⁻.⊤', '\"LeekTopping\"', '\"PolloAdAstra\"', '(\"MozzarellaTopping\" ⊔ \"OliveTopping\" ⊔ \"RocketTopping\" ⊔ \"TomatoTopping\" ⊔ \"GarlicTopping\" ⊔ \"ParmezanTopping\")', '\"SultanaTopping\"', '(\"Pizza\" ⊓ ∃hasTopping.\"MeatTopping\")', '(\"MozzarellaTopping\" ⊔ \"TomatoTopping\" ⊔ \"GreenPepperTopping\" ⊔ \"HotSpicedBeefTopping\" ⊔ \"OnionTopping\")', '\"Mild\"', '∃hasTopping.\"RosemaryTopping\"', '∃hasCountryOfOrigin.{Italy}', '\"SweetPepperTopping\"', '∃hasTopping.\"OliveTopping\"', '\"CaperTopping\"', '(\"Pizza\" ⊓ ¬\"VegetarianPizza\")', '\"Margherita\"', '\"Caprina\"', '∃hasSpiciness.\"Medium\"', '\"MeatyPizza\"', '∃hasTopping.\"PrawnsTopping\"', '∃hasTopping.\"CaperTopping\"', '∃hasTopping.\"PeperoniSausageTopping\"', '∀hasTopping.(\"MozzarellaTopping\" ⊔ \"OliveTopping\" ⊔ \"CaperTopping\" ⊔ \"TomatoTopping\" ⊔ \"SultanaTopping\" ⊔ \"OnionTopping\" ⊔ \"PineKernelTopping\")', '\"SeafoodTopping\"', '∃hasTopping.\"GorgonzolaTopping\"', '{America}', '∃hasTopping.\"MushroomTopping\"', '\"AnchoviesTopping\"', '∃hasSpiciness.\"Mild\"', '∃hasTopping.\"PeperonataTopping\"', '\"Giardiniera\"', '\"RedOnionTopping\"', '∃hasTopping.\"JalapenoPepperTopping\"', '∀hasTopping.(\"MozzarellaTopping\" ⊔ \"TomatoTopping\" ⊔ \"GorgonzolaTopping\")', '\"Veneziana\"', '\"Napoletana\"', '\"Siciliana\"', '∃hasTopping.\"SlicedTomatoTopping\"', '(\"MozzarellaTopping\" ⊔ \"TomatoTopping\")', '∀hasTopping.(\"MozzarellaTopping\" ⊔ \"OliveTopping\" ⊔ \"CaperTopping\" ⊔ \"TomatoTopping\" ⊔ \"AnchoviesTopping\")', '⩾3hasTopping.⊤', '\"MixedSeafoodTopping\"', '\"PizzaTopping\"', '\"CheesyVegetableTopping\"', '⩽1hasBase.⊤', '∀hasTopping.(\"TomatoTopping\" ⊔ \"FourCheesesTopping\")', '∃hasTopping.\"ArtichokeTopping\"', '\"CajunSpiceTopping\"', '∃hasTopping.\"RocketTopping\"', '∃hasSpiciness.\"Hot\"', '(\"MozzarellaTopping\" ⊔ \"OliveTopping\" ⊔ \"CaperTopping\" ⊔ \"TomatoTopping\" ⊔ \"AnchoviesTopping\")', '∀hasTopping.(\"MozzarellaTopping\" ⊔ \"OliveTopping\" ⊔ \"RocketTopping\" ⊔ \"TomatoTopping\" ⊔ \"GarlicTopping\" ⊔ \"ParmezanTopping\")', '\"PepperTopping\"', '(\"MozzarellaTopping\" ⊔ \"MushroomTopping\" ⊔ \"OliveTopping\" ⊔ \"LeekTopping\" ⊔ \"SlicedTomatoTopping\" ⊔ \"PetitPoisTopping\" ⊔ \"TomatoTopping\" ⊔ \"PeperonataTopping\")', '\"VegetarianTopping\"', '∃hasTopping.\"SpicyTopping\"', '\"Hot\"', '\"ArtichokeTopping\"', '∀hasTopping.(\"MozzarellaTopping\" ⊔ \"SweetPepperTopping\" ⊔ \"TomatoTopping\" ⊔ \"CajunSpiceTopping\" ⊔ \"RedOnionTopping\" ⊔ \"GarlicTopping\" ⊔ \"ChickenTopping\")', '\"Rosa\"', '\"FourSeasons\"', '\"AsparagusTopping\"', '∀hasTopping.(\"NutTopping\" ⊔ \"CheeseTopping\" ⊔ \"HerbSpiceTopping\" ⊔ \"VegetableTopping\" ⊔ \"SauceTopping\" ⊔ \"FruitTopping\")', '∀hasBase.\"ThinAndCrispyBase\"', '\"HotSpicedBeefTopping\"', '∃hasTopping.(∃hasSpiciness.\"Hot\" ⊓ \"PizzaTopping\")', '\"GreenPepperTopping\"', '\"IceCream\"', '(\"MozzarellaTopping\" ⊔ \"TomatoTopping\" ⊔ \"GoatsCheeseTopping\" ⊔ \"SundriedTomatoTopping\")', '∃hasTopping.\"CajunSpiceTopping\"', '(\"NutTopping\" ⊔ \"CheeseTopping\" ⊔ \"HerbSpiceTopping\" ⊔ \"VegetableTopping\" ⊔ \"SauceTopping\" ⊔ \"FruitTopping\")', '∀hasTopping.(\"MozzarellaTopping\" ⊔ \"OliveTopping\" ⊔ \"CaperTopping\" ⊔ \"TomatoTopping\" ⊔ \"PeperonataTopping\" ⊔ \"AnchoviesTopping\" ⊔ \"HamTopping\")', '\"Cajun\"', '∃hasTopping.\"SpinachTopping\"', '(∀hasTopping.\"VegetarianTopping\" ⊓ \"Pizza\")', '\"OliveTopping\"', '(\"Hot\" ⊔ \"Medium\" ⊔ \"Mild\")', '(∀hasTopping.(\"NutTopping\" ⊔ \"CheeseTopping\" ⊔ \"HerbSpiceTopping\" ⊔ \"VegetableTopping\" ⊔ \"SauceTopping\" ⊔ \"FruitTopping\") ⊓ \"Pizza\")', '\"MushroomTopping\"', '\"Food\"', '∃hasTopping.\"FourCheesesTopping\"', '\"LaReine\"', '\"MozzarellaTopping\"', '\"Mushroom\"', '\"SpicyTopping\"']\n"
     ]
    }
   ],
   "source": [
    "# get all concepts occurring in the ontology\n",
    "allConcepts = ontology.getSubConcepts()\n",
    "\n",
    "print()\n",
    "print(\"There are \",len(allConcepts), \" concepts occurring in the ontology\")\n",
    "print(\"These are the concepts occurring in the ontology:\")\n",
    "print([formatter.format(x) for x in allConcepts])"
   ]
  },
  {
   "cell_type": "code",
   "execution_count": 29,
   "metadata": {},
   "outputs": [
    {
     "name": "stdout",
     "output_type": "stream",
     "text": [
      "\n",
      "There are  99  concept names occurring in the ontology\n",
      "These are the concept names: \n",
      "['\"CheesyPizza\"', '\"RosemaryTopping\"', '\"NonVegetarianPizza\"', '\"OliveTopping\"', '\"RocketTopping\"', '\"SpicyPizza\"', '\"NutTopping\"', '\"VegetarianPizza2\"', '\"OnionTopping\"', '\"PizzaTopping\"', '\"FruitTopping\"', '\"Soho\"', '\"VegetarianPizza\"', '\"Cajun\"', '\"SauceTopping\"', '\"ParmezanTopping\"', '\"Hot\"', '\"SweetPepperTopping\"', '\"VegetarianTopping\"', '\"Mild\"', '\"LaReine\"', '\"Napoletana\"', '\"GoatsCheeseTopping\"', '\"PeperoniSausageTopping\"', '\"DeepPanBase\"', '\"PeperonataTopping\"', '\"IceCream\"', '\"Caprina\"', '\"SlicedTomatoTopping\"', '\"Siciliana\"', '\"Giardiniera\"', '\"VegetarianPizza1\"', '\"Capricciosa\"', '\"PetitPoisTopping\"', '\"ChickenTopping\"', '\"ThinAndCrispyBase\"', '\"RealItalianPizza\"', '\"MixedSeafoodTopping\"', '\"SultanaTopping\"', '\"PolloAdAstra\"', '\"TomatoTopping\"', '\"ThinAndCrispyPizza\"', '\"UnclosedPizza\"', '\"CajunSpiceTopping\"', '\"CheeseTopping\"', '\"Parmense\"', '\"AsparagusTopping\"', '\"Fiorentina\"', '\"AmericanHot\"', '\"HerbSpiceTopping\"', '\"VegetableTopping\"', '\"SpinachTopping\"', '\"SpicyPizzaEquivalent\"', '\"PepperTopping\"', '\"Rosa\"', '\"ValuePartition\"', '\"Margherita\"', '\"Country\"', '\"InterestingPizza\"', '\"AnchoviesTopping\"', '\"QuattroFormaggi\"', '\"PizzaBase\"', '\"HotGreenPepperTopping\"', '\"SloppyGiuseppe\"', '\"CaperTopping\"', '\"LeekTopping\"', '\"ArtichokeTopping\"', '\"SundriedTomatoTopping\"', '\"DomainThing\"', '\"Medium\"', '\"MozzarellaTopping\"', '\"ParmaHamTopping\"', '\"MeatTopping\"', '\"GarlicTopping\"', '\"FourSeasons\"', '\"FourCheesesTopping\"', '\"HotSpicedBeefTopping\"', '\"MushroomTopping\"', '\"CheesyVegetableTopping\"', '\"SpicyTopping\"', '\"PineKernelTopping\"', '\"JalapenoPepperTopping\"', '\"FruttiDiMare\"', '\"Veneziana\"', '\"PrawnsTopping\"', '\"Mushroom\"', '\"American\"', '\"Pizza\"', 'NamedPizza', '\"Food\"', '\"HamTopping\"', '\"Spiciness\"', '\"RedOnionTopping\"', '\"MeatyPizza\"', '\"PrinceCarlo\"', '\"TobascoPepperSauceTopping\"', '\"SeafoodTopping\"', '\"GreenPepperTopping\"', '\"GorgonzolaTopping\"']\n"
     ]
    }
   ],
   "source": [
    "# get all conceptNames in the ontology \n",
    "conceptNames = ontology.getConceptNames()\n",
    "\n",
    "print()\n",
    "print(\"There are \", len(conceptNames), \" concept names occurring in the ontology\")\n",
    "print(\"These are the concept names: \")\n",
    "print([formatter.format(x) for x in conceptNames])\n"
   ]
  },
  {
   "cell_type": "code",
   "execution_count": 30,
   "metadata": {},
   "outputs": [
    {
     "name": "stdout",
     "output_type": "stream",
     "text": [
      "\n",
      "Looking for axiom types in EL\n",
      "I found a general concept inclusion:\n",
      "⊤ ⊑ ⩽1hasBase.⊤\n",
      "The left hand side of the axiom is:  ⊤\n",
      "The right hand side of the axiom is:  ⩽1hasBase.⊤\n",
      "\n",
      "I found an equivalence axiom:\n",
      "\"InterestingPizza\" ≡ (⩾3hasTopping.⊤ ⊓ \"Pizza\")\n",
      "The concepts made equivalent are: \n",
      " - \"InterestingPizza\"\n",
      " - (⩾3hasTopping.⊤ ⊓ \"Pizza\")\n",
      "\n"
     ]
    }
   ],
   "source": [
    "# access the type of axioms:\n",
    "foundGCI = False\n",
    "foundEquivalenceAxiom = False\n",
    "print()\n",
    "print(\"Looking for axiom types in EL\")\n",
    "for axiom in axioms:\n",
    "    axiomType = axiom.getClass().getSimpleName() \n",
    "    #print(axiomType)\n",
    "    if(not(foundGCI)\n",
    "       and axiomType == \"GeneralConceptInclusion\"):\n",
    "        print(\"I found a general concept inclusion:\")\n",
    "        print(formatter.format(axiom))\n",
    "        print(\"The left hand side of the axiom is: \", formatter.format(axiom.lhs()))\n",
    "        print(\"The right hand side of the axiom is: \", formatter.format(axiom.rhs()))\n",
    "        print()\n",
    "        foundGCI = True\n",
    "\n",
    "    elif(not(foundEquivalenceAxiom)\n",
    "         and axiomType == \"EquivalenceAxiom\"):\n",
    "        print(\"I found an equivalence axiom:\")\n",
    "        print(formatter.format(axiom))\n",
    "        print(\"The concepts made equivalent are: \")\n",
    "        for concept in axiom.getConcepts():\n",
    "            print(\" - \"+formatter.format(concept))\n",
    "        print()\n",
    "        foundEquivalenceAxiom = True"
   ]
  },
  {
   "cell_type": "code",
   "execution_count": 31,
   "metadata": {},
   "outputs": [
    {
     "name": "stdout",
     "output_type": "stream",
     "text": [
      "\n",
      "Looking for concept types in EL\n",
      "ExistentialRoleRestriction\n",
      "I found an existential role restriction: ∃hasTopping.\"CheeseTopping\"\n",
      "The role is: hasTopping\n",
      "The filler is: \"CheeseTopping\"\n",
      "\n",
      "ConceptDisjunction\n",
      "ConceptName\n",
      "I found a concept name: \"American\"\n",
      "\n",
      "UniversalRoleRestriction\n",
      "ConceptComplement\n",
      "ConceptConjunction\n",
      "I found a conjunction: (\"Pizza\" ⊓ ∀hasBase.\"ThinAndCrispyBase\")\n",
      "The conjuncts are: \n",
      " - \"Pizza\"\n",
      "<class 'str'>\n",
      " - ∀hasBase.\"ThinAndCrispyBase\"\n",
      "<class 'str'>\n",
      "\n",
      "MaxNumberRestriction\n",
      "NominalSet\n",
      "TopConcept$\n",
      "I found the top concept: ⊤\n",
      "\n",
      "MinNumberRestriction\n"
     ]
    }
   ],
   "source": [
    "# accessing the relevant types of concepts:\n",
    "foundConceptName=False\n",
    "foundTop=False\n",
    "foundExistential=False\n",
    "foundConjunction=False\n",
    "foundConceptTypes = set()\n",
    "\n",
    "print()\n",
    "print(\"Looking for concept types in EL\")\n",
    "for concept in allConcepts:\n",
    "    conceptType = concept.getClass().getSimpleName()\n",
    "    if(not(conceptType in foundConceptTypes)): \n",
    "        print(conceptType)\n",
    "        foundConceptTypes.add(conceptType)\n",
    "    if(not(foundConceptName) and conceptType == \"ConceptName\"):\n",
    "        print(\"I found a concept name: \"+formatter.format(concept))\n",
    "        print()\n",
    "        foundConceptName = True\n",
    "    elif(not(foundTop) and conceptType == \"TopConcept$\"):\n",
    "        print(\"I found the top concept: \"+formatter.format(concept))\n",
    "        print()\n",
    "        foundTop = True\n",
    "    elif(not(foundExistential) and conceptType == \"ExistentialRoleRestriction\"):\n",
    "        print(\"I found an existential role restriction: \"+formatter.format(concept))\n",
    "        print(\"The role is: \"+formatter.format(concept.role()))\n",
    "        print(\"The filler is: \"+formatter.format(concept.filler()))\n",
    "        print()\n",
    "        foundExistential = True\n",
    "    elif(not(foundConjunction) and conceptType == \"ConceptConjunction\"):\n",
    "        print(\"I found a conjunction: \"+formatter.format(concept))\n",
    "        print(\"The conjuncts are: \")\n",
    "        for conjunct in concept.getConjuncts():\n",
    "            print(\" - \"+formatter.format(conjunct))\n",
    "            print(type(formatter.format(conjunct)))\n",
    "        print()\n",
    "        foundConjunction=True"
   ]
  },
  {
   "cell_type": "code",
   "execution_count": 32,
   "metadata": {},
   "outputs": [
    {
     "name": "stdout",
     "output_type": "stream",
     "text": [
      "I made the following GCI:\n",
      "(A ⊓ B) ⊑ (⊤ ⊓ ∃r.(A ⊓ B))\n"
     ]
    }
   ],
   "source": [
    "# Creating EL concepts and axioms\n",
    "\n",
    "elFactory = gateway.getELFactory()\n",
    "\n",
    "conceptA = elFactory.getConceptName(\"A\")\n",
    "conceptB = elFactory.getConceptName(\"B\")\n",
    "conjunctionAB = elFactory.getConjunction(conceptA, conceptB)\n",
    "role = elFactory.getRole(\"r\")\n",
    "existential = elFactory.getExistentialRoleRestriction(role,conjunctionAB)\n",
    "top = elFactory.getTop()\n",
    "conjunction2 = elFactory.getConjunction(top,existential)\n",
    "\n",
    "gci = elFactory.getGCI(conjunctionAB,conjunction2)\n",
    "\n",
    "print(\"I made the following GCI:\")\n",
    "print(formatter.format(gci))"
   ]
  },
  {
   "cell_type": "code",
   "execution_count": 18,
   "metadata": {},
   "outputs": [
    {
     "name": "stdout",
     "output_type": "stream",
     "text": [
      "∃r.∃r.(A ⊓ B)\n",
      "Role r, Concept that follows ∃r.(A ⊓ B)\n"
     ]
    }
   ],
   "source": [
    "existential2 = elFactory.getExistentialRoleRestriction(role,existential)\n",
    "y = formatter.format(existential2)\n",
    "print(y)\n",
    "existential2.getClass().getSimpleName()\n",
    "role = y[1:].split(\".\")\n",
    "print(f\"Role {role[0]}, Concept that follows {'.'.join(role[1:])}\")\n"
   ]
  },
  {
   "cell_type": "code",
   "execution_count": 19,
   "metadata": {},
   "outputs": [
    {
     "name": "stdout",
     "output_type": "stream",
     "text": [
      "{0: 1}\n"
     ]
    }
   ],
   "source": [
    "z = {}\n",
    "z[0] = 1\n",
    "print(z)"
   ]
  },
  {
   "cell_type": "code",
   "execution_count": null,
   "metadata": {},
   "outputs": [
    {
     "name": "stdout",
     "output_type": "stream",
     "text": [
      "\n",
      "I am first testing ELK.\n",
      "\n",
      "According to ELK, Margherita has the following subsumers: \n",
      "( 7  in total)\n",
      "\n",
      "I can also classify the ontology with ELK.\n",
      "But I am not printing the result, because that would be too much stuff (it is a dictionary)\n",
      "\n",
      "\n",
      "I am now testing HermiT.\n",
      "\n",
      "According to HermiT, Margherita has the following subsumers: \n",
      "( 10  in total)\n",
      "\n",
      "I can also classify the ontology with HermiT\n",
      "But I am not printing the result, because that would be too much stuff (it is a dictionary)\n",
      "\n"
     ]
    }
   ],
   "source": [
    "# Using the reasoners\n",
    "\n",
    "elk = gateway.getELKReasoner()\n",
    "hermit = gateway.getHermiTReasoner() # might the upper case T!\n",
    "\n",
    "margherita = elFactory.getConceptName('\"Margherita\"')\n",
    "\n",
    "print()\n",
    "print(\"I am first testing ELK.\")\n",
    "elk.setOntology(ontology)\n",
    "print()\n",
    "print(\"According to ELK, Margherita has the following subsumers: \")\n",
    "subsumers = elk.getSubsumers(margherita)\n",
    "for concept in subsumers:\n",
    "    print(\" - \",formatter.format(concept))\n",
    "print(\"(\",len(subsumers),\" in total)\")\n",
    "print()\n",
    "print(\"I can also classify the ontology with ELK.\")\n",
    "classificationResult = elk.classify()\n",
    "print(\"But I am not printing the result, because that would be too much stuff (it is a dictionary)\")\n",
    "print()\n",
    "\n",
    "print()\n",
    "print(\"I am now testing HermiT.\")\n",
    "hermit.setOntology(ontology)\n",
    "print()\n",
    "print(\"According to HermiT, Margherita has the following subsumers: \")\n",
    "subsumers = hermit.getSubsumers(margherita)\n",
    "for concept in subsumers:\n",
    "    print(\" - \",formatter.format(concept))\n",
    "    print()\n",
    "print(\"(\",len(subsumers),\" in total)\")\n",
    "print()\n",
    "print(\"I can also classify the ontology with HermiT\")\n",
    "classificationResult = hermit.classify()\n",
    "print(\"But I am not printing the result, because that would be too much stuff (it is a dictionary)\")\n",
    "print()"
   ]
  },
  {
   "cell_type": "markdown",
   "metadata": {},
   "source": [
    "## Notes:\n",
    "\n",
    "Getting Started\n",
    "- The parser is used to convert a owl file into a java file which we can manipulate\n",
    "    - We extract the ontology by doing parser.parsefile(file)\n",
    "- To make the ontology usable for the algorithm we need to convert it into binary conjuntives\n",
    "    - Usage: gateway.convertToBinaryConjunctions(ontology)\n",
    "\n",
    "Axioms:\n",
    "- Axioms are in the tbox thus we do: axioms = ontology.tbox().getAxioms()\n",
    "- We get the axiom type by axiom.getClass().getSimpleName()\n",
    "    - GCI is subsumtion/subsetting\n",
    "\n",
    "Concepts: \n",
    "- All concepts are Java Objects and you convert them to DL by doing formatter.format(concept)\n",
    "- We get all concepts in the ontology using ontology.getSubConcepts()\n",
    "    - This gives us all comple concepts and basic conepts\n",
    "- Concept types are extracted through: concept.getClass().getSimpleName() \n",
    "- Concept types: \n",
    "    - ConceptName\n",
    "    - TopConcept$\n",
    "    - ExistentialRoleRestriction\n",
    "    - ConceptConjunction\n",
    "\n",
    "\n",
    "EL \n",
    "- You construct el concepts through object: elF = gateway.getELFactory()\n",
    "- Concepts are created through c1 = elF.getConceptName(\"c1\")\n",
    "- Conjunctions are made using elFgetConjuntion(c1, c2)\n",
    "- Roles are created as r = elF.getRole(\"r\")\n",
    "- Existential roles are made exist = elF.getExistentialRoleRestriction(role,conjunctionAB)\n",
    "- Top is made by elF.getTop()\n",
    "- GCI is given by elf.getGCI(concept1, concept2)\n",
    "- All biinary constructors read left to right \n",
    "\n",
    "Reasoner\n",
    "- Can use elk = gateway.getELKReasoner(), hermit = gateway.getHermiTReasoner(); as reasoners\n",
    "- Feed ontology onto reasoner by reasoner.setOntology(ontology)\n",
    "- Reason Subsumption: reasoner.getSubsumers(concept)\n",
    "- Reason classification: reasoner.classify()\n",
    "    - Classification output is a dictionary\n"
   ]
  },
  {
   "cell_type": "code",
   "execution_count": 14,
   "metadata": {},
   "outputs": [
    {
     "name": "stdout",
     "output_type": "stream",
     "text": [
      "5\n",
      "6\n"
     ]
    }
   ],
   "source": [
    "dic = {0: {1: 5, 2 : 0}, 1: {1: 6, 2 : 1}}\n",
    "\n",
    "for val, key in dic.items():\n",
    "    print(key[1])\n",
    "\n"
   ]
  },
  {
   "cell_type": "code",
   "execution_count": 20,
   "metadata": {},
   "outputs": [
    {
     "data": {
      "text/plain": [
       "'something'"
      ]
     },
     "execution_count": 20,
     "metadata": {},
     "output_type": "execute_result"
    }
   ],
   "source": [
    "x = \"3something.C\"\n",
    "x[1:].split(\".\")[0]"
   ]
  },
  {
   "cell_type": "code",
   "execution_count": 2,
   "metadata": {},
   "outputs": [
    {
     "data": {
      "text/plain": [
       "False"
      ]
     },
     "execution_count": 2,
     "metadata": {},
     "output_type": "execute_result"
    }
   ],
   "source": [
    "\"a\" in [\"there\", \"is\", \"a tomato\"]"
   ]
  },
  {
   "cell_type": "code",
   "execution_count": null,
   "metadata": {},
   "outputs": [
    {
     "data": {
      "text/plain": [
       "[1, 2, 3, 5]"
      ]
     },
     "execution_count": 22,
     "metadata": {},
     "output_type": "execute_result"
    }
   ],
   "source": [
    "x = {0 : {\"c\": [1,2,3], \"s\": [4, 5, 6], \"a\" : [7, 8, 9]}}\n",
    "x[0][\"c\"]\n",
    "x[0][\"c\"]"
   ]
  },
  {
   "cell_type": "code",
   "execution_count": 24,
   "metadata": {},
   "outputs": [
    {
     "data": {
      "text/plain": [
       "[]"
      ]
     },
     "execution_count": 24,
     "metadata": {},
     "output_type": "execute_result"
    }
   ],
   "source": [
    "ind = {0:{'concepts': [], 'roles': []}}\n",
    "ind[0][\"concepts\"]"
   ]
  },
  {
   "cell_type": "code",
   "execution_count": null,
   "metadata": {},
   "outputs": [
    {
     "name": "stdout",
     "output_type": "stream",
     "text": [
      "0\n",
      "1\n",
      "2\n",
      "3\n",
      "4\n",
      "5\n",
      "[1, 2, 3, 4, 5, 6, 6]\n"
     ]
    }
   ],
   "source": [
    "x = [1,2,3,4,5,6]\n",
    "y = len(x)\n",
    "for i in range(len(x)):\n",
    "    print(i)\n",
    "    if i == 5:\n",
    "        x.append(i+2)\n",
    "print(x)"
   ]
  },
  {
   "cell_type": "code",
   "execution_count": null,
   "metadata": {},
   "outputs": [
    {
     "data": {
      "text/plain": [
       "{1, 2}"
      ]
     },
     "execution_count": 49,
     "metadata": {},
     "output_type": "execute_result"
    }
   ],
   "source": [
    "x = set([1])\n",
    "x.update([2])\n",
    "x"
   ]
  }
 ],
 "metadata": {
  "kernelspec": {
   "display_name": "kr",
   "language": "python",
   "name": "python3"
  },
  "language_info": {
   "codemirror_mode": {
    "name": "ipython",
    "version": 3
   },
   "file_extension": ".py",
   "mimetype": "text/x-python",
   "name": "python",
   "nbconvert_exporter": "python",
   "pygments_lexer": "ipython3",
   "version": "3.13.1"
  }
 },
 "nbformat": 4,
 "nbformat_minor": 2
}
