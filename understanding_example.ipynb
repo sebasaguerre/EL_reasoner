{
 "cells": [
  {
   "cell_type": "code",
   "execution_count": 25,
   "metadata": {},
   "outputs": [
    {
     "name": "stdout",
     "output_type": "stream",
     "text": [
      "Loading the ontology...\n",
      "Loaded the ontology!\n",
      "Converting to binary conjunctions\n"
     ]
    }
   ],
   "source": [
    "#! /usr/bin/python\n",
    "\n",
    "from py4j.java_gateway import JavaGateway\n",
    "\n",
    "# connect to the java gateway of dl4python\n",
    "gateway = JavaGateway()\n",
    "\n",
    "# get a parser from OWL files to DL ontologies\n",
    "parser = gateway.getOWLParser()\n",
    "\n",
    "# get a formatter to print in nice DL format\n",
    "formatter = gateway.getSimpleDLFormatter()\n",
    "\n",
    "print(\"Loading the ontology...\")\n",
    "\n",
    "# load an ontology from a file\n",
    "ontology = parser.parseFile(\"pizza.owl\")\n",
    "\n",
    "print(\"Loaded the ontology!\")\n",
    "\n",
    "# IMPORTANT: the algorithm from the lecture assumes conjunctions to always be over two concepts\n",
    "# Ontologies in OWL can however have conjunctions over an arbitrary number of concpets.\n",
    "# The following command changes all conjunctions so that they have at most two conjuncts\n",
    "print(\"Converting to binary conjunctions\")\n",
    "gateway.convertToBinaryConjunctions(ontology)\n"
   ]
  },
  {
   "cell_type": "code",
   "execution_count": 26,
   "metadata": {},
   "outputs": [
    {
     "data": {
      "text/plain": [
       "py4j.java_gateway.JavaObject"
      ]
     },
     "execution_count": 26,
     "metadata": {},
     "output_type": "execute_result"
    }
   ],
   "source": [
    "type(ontology)"
   ]
  },
  {
   "cell_type": "code",
   "execution_count": null,
   "metadata": {},
   "outputs": [
    {
     "ename": "AttributeError",
     "evalue": "'list' object has no attribute '_get_object_id'",
     "output_type": "error",
     "traceback": [
      "\u001b[1;31m---------------------------------------------------------------------------\u001b[0m",
      "\u001b[1;31mAttributeError\u001b[0m                            Traceback (most recent call last)",
      "Cell \u001b[1;32mIn[53], line 4\u001b[0m\n\u001b[0;32m      2\u001b[0m tbox \u001b[38;5;241m=\u001b[39m ontology\u001b[38;5;241m.\u001b[39mtbox()\n\u001b[0;32m      3\u001b[0m axioms \u001b[38;5;241m=\u001b[39m tbox\u001b[38;5;241m.\u001b[39mgetAxioms()\n\u001b[1;32m----> 4\u001b[0m \u001b[43maxioms\u001b[49m\u001b[38;5;241;43m.\u001b[39;49m\u001b[43mupdate\u001b[49m\u001b[43m(\u001b[49m\u001b[43m[\u001b[49m\u001b[38;5;241;43m1\u001b[39;49m\u001b[43m]\u001b[49m\u001b[43m)\u001b[49m\n\u001b[0;32m      6\u001b[0m \u001b[38;5;28mprint\u001b[39m(\u001b[38;5;124m\"\u001b[39m\u001b[38;5;124mThese are the axioms in the TBox:\u001b[39m\u001b[38;5;124m\"\u001b[39m)\n\u001b[0;32m      7\u001b[0m \u001b[38;5;28;01mfor\u001b[39;00m axiom \u001b[38;5;129;01min\u001b[39;00m axioms:\n",
      "File \u001b[1;32mc:\\Users\\agdse\\anaconda3\\envs\\kr\\Lib\\site-packages\\py4j\\java_gateway.py:1314\u001b[0m, in \u001b[0;36mJavaMember.__call__\u001b[1;34m(self, *args)\u001b[0m\n\u001b[0;32m   1313\u001b[0m \u001b[38;5;28;01mdef\u001b[39;00m \u001b[38;5;21m__call__\u001b[39m(\u001b[38;5;28mself\u001b[39m, \u001b[38;5;241m*\u001b[39margs):\n\u001b[1;32m-> 1314\u001b[0m     args_command, temp_args \u001b[38;5;241m=\u001b[39m \u001b[38;5;28;43mself\u001b[39;49m\u001b[38;5;241;43m.\u001b[39;49m\u001b[43m_build_args\u001b[49m\u001b[43m(\u001b[49m\u001b[38;5;241;43m*\u001b[39;49m\u001b[43margs\u001b[49m\u001b[43m)\u001b[49m\n\u001b[0;32m   1316\u001b[0m     command \u001b[38;5;241m=\u001b[39m proto\u001b[38;5;241m.\u001b[39mCALL_COMMAND_NAME \u001b[38;5;241m+\u001b[39m\\\n\u001b[0;32m   1317\u001b[0m         \u001b[38;5;28mself\u001b[39m\u001b[38;5;241m.\u001b[39mcommand_header \u001b[38;5;241m+\u001b[39m\\\n\u001b[0;32m   1318\u001b[0m         args_command \u001b[38;5;241m+\u001b[39m\\\n\u001b[0;32m   1319\u001b[0m         proto\u001b[38;5;241m.\u001b[39mEND_COMMAND_PART\n\u001b[0;32m   1321\u001b[0m     answer \u001b[38;5;241m=\u001b[39m \u001b[38;5;28mself\u001b[39m\u001b[38;5;241m.\u001b[39mgateway_client\u001b[38;5;241m.\u001b[39msend_command(command)\n",
      "File \u001b[1;32mc:\\Users\\agdse\\anaconda3\\envs\\kr\\Lib\\site-packages\\py4j\\java_gateway.py:1283\u001b[0m, in \u001b[0;36mJavaMember._build_args\u001b[1;34m(self, *args)\u001b[0m\n\u001b[0;32m   1279\u001b[0m     new_args \u001b[38;5;241m=\u001b[39m args\n\u001b[0;32m   1280\u001b[0m     temp_args \u001b[38;5;241m=\u001b[39m []\n\u001b[0;32m   1282\u001b[0m args_command \u001b[38;5;241m=\u001b[39m \u001b[38;5;124m\"\u001b[39m\u001b[38;5;124m\"\u001b[39m\u001b[38;5;241m.\u001b[39mjoin(\n\u001b[1;32m-> 1283\u001b[0m     [\u001b[43mget_command_part\u001b[49m\u001b[43m(\u001b[49m\u001b[43marg\u001b[49m\u001b[43m,\u001b[49m\u001b[43m \u001b[49m\u001b[38;5;28;43mself\u001b[39;49m\u001b[38;5;241;43m.\u001b[39;49m\u001b[43mpool\u001b[49m\u001b[43m)\u001b[49m \u001b[38;5;28;01mfor\u001b[39;00m arg \u001b[38;5;129;01min\u001b[39;00m new_args])\n\u001b[0;32m   1285\u001b[0m \u001b[38;5;28;01mreturn\u001b[39;00m args_command, temp_args\n",
      "File \u001b[1;32mc:\\Users\\agdse\\anaconda3\\envs\\kr\\Lib\\site-packages\\py4j\\protocol.py:298\u001b[0m, in \u001b[0;36mget_command_part\u001b[1;34m(parameter, python_proxy_pool)\u001b[0m\n\u001b[0;32m    296\u001b[0m         command_part \u001b[38;5;241m+\u001b[39m\u001b[38;5;241m=\u001b[39m \u001b[38;5;124m\"\u001b[39m\u001b[38;5;124m;\u001b[39m\u001b[38;5;124m\"\u001b[39m \u001b[38;5;241m+\u001b[39m interface\n\u001b[0;32m    297\u001b[0m \u001b[38;5;28;01melse\u001b[39;00m:\n\u001b[1;32m--> 298\u001b[0m     command_part \u001b[38;5;241m=\u001b[39m REFERENCE_TYPE \u001b[38;5;241m+\u001b[39m \u001b[43mparameter\u001b[49m\u001b[38;5;241;43m.\u001b[39;49m\u001b[43m_get_object_id\u001b[49m()\n\u001b[0;32m    300\u001b[0m command_part \u001b[38;5;241m+\u001b[39m\u001b[38;5;241m=\u001b[39m \u001b[38;5;124m\"\u001b[39m\u001b[38;5;130;01m\\n\u001b[39;00m\u001b[38;5;124m\"\u001b[39m\n\u001b[0;32m    302\u001b[0m \u001b[38;5;28;01mreturn\u001b[39;00m command_part\n",
      "\u001b[1;31mAttributeError\u001b[0m: 'list' object has no attribute '_get_object_id'"
     ]
    }
   ],
   "source": [
    "# get the TBox axioms\n",
    "tbox = ontology.tbox()\n",
    "axioms = tbox.getAxioms()\n",
    "\n",
    "print(\"These are the axioms in the TBox:\")\n",
    "for axiom in axioms:\n",
    "    print(formatter.format(axiom))"
   ]
  },
  {
   "cell_type": "code",
   "execution_count": 28,
   "metadata": {},
   "outputs": [
    {
     "name": "stdout",
     "output_type": "stream",
     "text": [
      "\n",
      "There are  227  concepts occurring in the ontology\n",
      "These are the concepts occurring in the ontology:\n",
      "['∃hasTopping.\"CheeseTopping\"', '(\"MozzarellaTopping\" ⊔ \"TomatoTopping\" ⊔ \"PrawnsTopping\" ⊔ \"PeperonataTopping\" ⊔ \"OnionTopping\" ⊔ \"TobascoPepperSauceTopping\")', '\"American\"', '\"SpicyPizzaEquivalent\"', '∀hasTopping.(\"MozzarellaTopping\" ⊔ \"MushroomTopping\" ⊔ \"OliveTopping\" ⊔ \"LeekTopping\" ⊔ \"SlicedTomatoTopping\" ⊔ \"PetitPoisTopping\" ⊔ \"TomatoTopping\" ⊔ \"PeperonataTopping\")', '∀hasTopping.(\"MozzarellaTopping\" ⊔ \"TomatoTopping\" ⊔ \"AsparagusTopping\" ⊔ \"ParmezanTopping\" ⊔ \"HamTopping\")', '∀hasTopping.(\"MozzarellaTopping\" ⊔ \"TomatoTopping\" ⊔ \"PrawnsTopping\" ⊔ \"PeperonataTopping\" ⊔ \"OnionTopping\" ⊔ \"TobascoPepperSauceTopping\")', '\"PizzaBase\"', '\"NutTopping\"', '¬∃hasTopping.\"SeafoodTopping\"', '\"FruitTopping\"', '\"PeperonataTopping\"', '\"FruttiDiMare\"', '\"Spiciness\"', '(\"MozzarellaTopping\" ⊔ \"MushroomTopping\" ⊔ \"TomatoTopping\")', '\"SauceTopping\"', '∀hasTopping.(\"MozzarellaTopping\" ⊔ \"MushroomTopping\" ⊔ \"OliveTopping\" ⊔ \"TomatoTopping\" ⊔ \"HamTopping\")', '\"HotGreenPepperTopping\"', '∀hasTopping.(\"MixedSeafoodTopping\" ⊔ \"TomatoTopping\" ⊔ \"GarlicTopping\")', '¬\"VegetarianPizza\"', '\"PineKernelTopping\"', '∃hasTopping.\"PetitPoisTopping\"', '(\"Pizza\" ⊓ ∀hasBase.\"ThinAndCrispyBase\")', '\"MeatTopping\"', '⩽1isToppingOf.⊤', '∃hasTopping.\"GoatsCheeseTopping\"', '((\"NutTopping\" ⊔ \"CheeseTopping\" ⊔ \"HerbSpiceTopping\" ⊔ \"VegetableTopping\" ⊔ \"SauceTopping\" ⊔ \"FruitTopping\") ⊓ \"PizzaTopping\")', '\"HamTopping\"', '(\"MozzarellaTopping\" ⊔ \"JalapenoPepperTopping\" ⊔ \"PeperoniSausageTopping\" ⊔ \"TomatoTopping\" ⊔ \"HotGreenPepperTopping\")', '\"ThinAndCrispyPizza\"', '∃hasTopping.\"HotSpicedBeefTopping\"', '(\"TomatoTopping\" ⊔ \"FourCheesesTopping\")', 'NamedPizza', '∃hasTopping.\"SundriedTomatoTopping\"', '\"PrinceCarlo\"', '∃hasTopping.\"SeafoodTopping\"', '∃hasTopping.\"MozzarellaTopping\"', '∃hasTopping.\"GarlicTopping\"', '∀hasTopping.(\"MozzarellaTopping\" ⊔ \"JalapenoPepperTopping\" ⊔ \"PeperoniSausageTopping\" ⊔ \"TomatoTopping\" ⊔ \"HotGreenPepperTopping\")', '∃hasTopping.\"GreenPepperTopping\"', '\"PrawnsTopping\"', '{Italy}', '⩽1isBaseOf.⊤', '(\"MozzarellaTopping\" ⊔ \"TomatoTopping\" ⊔ \"GorgonzolaTopping\")', '\"SpinachTopping\"', '\"SloppyGiuseppe\"', '(∃hasSpiciness.\"Hot\" ⊓ \"PizzaTopping\")', '(\"MozzarellaTopping\" ⊔ \"OliveTopping\" ⊔ \"CaperTopping\" ⊔ \"TomatoTopping\" ⊔ \"SultanaTopping\" ⊔ \"OnionTopping\" ⊔ \"PineKernelTopping\")', '\"NonVegetarianPizza\"', '(\"MozzarellaTopping\" ⊔ \"TomatoTopping\" ⊔ \"AsparagusTopping\" ⊔ \"ParmezanTopping\" ⊔ \"HamTopping\")', '\"Capricciosa\"', '\"TomatoTopping\"', '∃hasTopping.\"TomatoTopping\"', '∃hasTopping.\"RedOnionTopping\"', '∃hasTopping.\"AnchoviesTopping\"', '(\"Pizza\" ⊓ ∃hasTopping.\"SpicyTopping\")', '\"VegetarianPizza2\"', '\"SundriedTomatoTopping\"', '\"RosemaryTopping\"', '\"RealItalianPizza\"', '∀hasTopping.(\"MozzarellaTopping\" ⊔ \"LeekTopping\" ⊔ \"TomatoTopping\" ⊔ \"ParmezanTopping\" ⊔ \"RosemaryTopping\")', '\"Parmense\"', '(\"Pizza\" ⊓ ∃hasTopping.\"CheeseTopping\")', '∃hasTopping.\"AsparagusTopping\"', '∃hasTopping.\"SweetPepperTopping\"', '∃hasTopping.\"PineKernelTopping\"', '({America, England, France, Germany, Italy} ⊓ \"DomainThing\")', '(\"Pizza\" ⊓ (¬∃hasTopping.\"MeatTopping\" ⊓ ¬∃hasTopping.\"SeafoodTopping\"))', '∃hasTopping.\"ChickenTopping\"', '∃hasTopping.\"TobascoPepperSauceTopping\"', '\"QuattroFormaggi\"', '(\"MozzarellaTopping\" ⊔ \"LeekTopping\" ⊔ \"TomatoTopping\" ⊔ \"ParmezanTopping\" ⊔ \"RosemaryTopping\")', '∃hasTopping.\"OnionTopping\"', '\"VegetableTopping\"', '(\"MozzarellaTopping\" ⊔ \"OliveTopping\" ⊔ \"TomatoTopping\" ⊔ \"GarlicTopping\" ⊔ \"ParmezanTopping\" ⊔ \"SpinachTopping\")', '\"ChickenTopping\"', '(∃hasCountryOfOrigin.{Italy} ⊓ \"Pizza\")', '∃hasTopping.\"MixedSeafoodTopping\"', '⊤', '¬∃hasTopping.\"MeatTopping\"', '∃hasTopping.\"LeekTopping\"', '\"PeperoniSausageTopping\"', '(\"MozzarellaTopping\" ⊔ \"PeperoniSausageTopping\" ⊔ \"TomatoTopping\")', '∃hasTopping.\"SultanaTopping\"', '\"ThinAndCrispyBase\"', '∀hasTopping.(\"MozzarellaTopping\" ⊔ \"OliveTopping\" ⊔ \"TomatoTopping\" ⊔ \"GarlicTopping\" ⊔ \"ParmezanTopping\" ⊔ \"SpinachTopping\")', '∃hasCountryOfOrigin.{America}', '\"Medium\"', '∃hasTopping.\"HamTopping\"', '\"GoatsCheeseTopping\"', '∃hasTopping.\"FruitTopping\"', '(\"MozzarellaTopping\" ⊔ \"OliveTopping\" ⊔ \"TomatoTopping\" ⊔ \"ArtichokeTopping\" ⊔ \"AnchoviesTopping\" ⊔ \"GarlicTopping\" ⊔ \"HamTopping\")', '\"SpicyPizza\"', '{America, England, France, Germany, Italy}', '∃hasTopping.\"MeatTopping\"', '\"PetitPoisTopping\"', '\"ParmezanTopping\"', '(\"MixedSeafoodTopping\" ⊔ \"TomatoTopping\" ⊔ \"GarlicTopping\")', '\"AmericanHot\"', '(\"MozzarellaTopping\" ⊔ \"SweetPepperTopping\" ⊔ \"TomatoTopping\" ⊔ \"CajunSpiceTopping\" ⊔ \"RedOnionTopping\" ⊔ \"GarlicTopping\" ⊔ \"ChickenTopping\")', '(\"MozzarellaTopping\" ⊔ \"MushroomTopping\" ⊔ \"OliveTopping\" ⊔ \"CaperTopping\" ⊔ \"PeperoniSausageTopping\" ⊔ \"TomatoTopping\" ⊔ \"AnchoviesTopping\")', '⩽1isBaseOf⁻.⊤', '\"ValuePartition\"', '(⩾3hasTopping.⊤ ⊓ \"Pizza\")', '∀hasTopping.(\"MozzarellaTopping\" ⊔ \"TomatoTopping\")', '\"CheesyPizza\"', '∀hasTopping.(\"MozzarellaTopping\" ⊔ \"TomatoTopping\" ⊔ \"GreenPepperTopping\" ⊔ \"HotSpicedBeefTopping\" ⊔ \"OnionTopping\")', '∀hasTopping.(\"MozzarellaTopping\" ⊔ \"MushroomTopping\" ⊔ \"OliveTopping\" ⊔ \"CaperTopping\" ⊔ \"PeperoniSausageTopping\" ⊔ \"TomatoTopping\" ⊔ \"AnchoviesTopping\")', '\"VegetarianPizza\"', '∃hasBase.\"PizzaBase\"', '\"VegetarianPizza1\"', '(\"MozzarellaTopping\" ⊔ \"MushroomTopping\" ⊔ \"OliveTopping\" ⊔ \"TomatoTopping\" ⊔ \"HamTopping\")', '\"DomainThing\"', '∀hasTopping.(\"MozzarellaTopping\" ⊔ \"OliveTopping\" ⊔ \"TomatoTopping\" ⊔ \"ArtichokeTopping\" ⊔ \"AnchoviesTopping\" ⊔ \"GarlicTopping\" ⊔ \"HamTopping\")', '⩽1hasSpiciness.⊤', '⩽1hasBase⁻.⊤', '∃hasTopping.\"HotGreenPepperTopping\"', '\"SlicedTomatoTopping\"', '(¬∃hasTopping.\"MeatTopping\" ⊓ ¬∃hasTopping.\"SeafoodTopping\")', '\"GorgonzolaTopping\"', '\"OnionTopping\"', '\"HerbSpiceTopping\"', '\"TobascoPepperSauceTopping\"', '\"GarlicTopping\"', '\"ParmaHamTopping\"', '\"UnclosedPizza\"', '∀hasTopping.(\"MozzarellaTopping\" ⊔ \"MushroomTopping\" ⊔ \"TomatoTopping\")', '(\"Pizza\" ⊓ ∃hasTopping.(∃hasSpiciness.\"Hot\" ⊓ \"PizzaTopping\"))', '(\"MozzarellaTopping\" ⊔ \"OliveTopping\" ⊔ \"CaperTopping\" ⊔ \"TomatoTopping\" ⊔ \"PeperonataTopping\" ⊔ \"AnchoviesTopping\" ⊔ \"HamTopping\")', '\"Pizza\"', '\"RocketTopping\"', '\"CheeseTopping\"', '\"JalapenoPepperTopping\"', '∃hasTopping.\"ParmezanTopping\"', '\"Fiorentina\"', '\"InterestingPizza\"', '∀hasTopping.(\"MozzarellaTopping\" ⊔ \"TomatoTopping\" ⊔ \"GoatsCheeseTopping\" ⊔ \"SundriedTomatoTopping\")', '∀hasTopping.(\"MozzarellaTopping\" ⊔ \"PeperoniSausageTopping\" ⊔ \"TomatoTopping\")', '\"FourCheesesTopping\"', '\"DeepPanBase\"', '∀hasTopping.\"VegetarianTopping\"', '\"Soho\"', '\"Country\"', '⩽1hasTopping⁻.⊤', '\"LeekTopping\"', '\"PolloAdAstra\"', '(\"MozzarellaTopping\" ⊔ \"OliveTopping\" ⊔ \"RocketTopping\" ⊔ \"TomatoTopping\" ⊔ \"GarlicTopping\" ⊔ \"ParmezanTopping\")', '\"SultanaTopping\"', '(\"Pizza\" ⊓ ∃hasTopping.\"MeatTopping\")', '(\"MozzarellaTopping\" ⊔ \"TomatoTopping\" ⊔ \"GreenPepperTopping\" ⊔ \"HotSpicedBeefTopping\" ⊔ \"OnionTopping\")', '\"Mild\"', '∃hasTopping.\"RosemaryTopping\"', '∃hasCountryOfOrigin.{Italy}', '\"SweetPepperTopping\"', '∃hasTopping.\"OliveTopping\"', '\"CaperTopping\"', '(\"Pizza\" ⊓ ¬\"VegetarianPizza\")', '\"Margherita\"', '\"Caprina\"', '∃hasSpiciness.\"Medium\"', '\"MeatyPizza\"', '∃hasTopping.\"PrawnsTopping\"', '∃hasTopping.\"CaperTopping\"', '∃hasTopping.\"PeperoniSausageTopping\"', '∀hasTopping.(\"MozzarellaTopping\" ⊔ \"OliveTopping\" ⊔ \"CaperTopping\" ⊔ \"TomatoTopping\" ⊔ \"SultanaTopping\" ⊔ \"OnionTopping\" ⊔ \"PineKernelTopping\")', '\"SeafoodTopping\"', '∃hasTopping.\"GorgonzolaTopping\"', '{America}', '∃hasTopping.\"MushroomTopping\"', '\"AnchoviesTopping\"', '∃hasSpiciness.\"Mild\"', '∃hasTopping.\"PeperonataTopping\"', '\"Giardiniera\"', '\"RedOnionTopping\"', '∃hasTopping.\"JalapenoPepperTopping\"', '∀hasTopping.(\"MozzarellaTopping\" ⊔ \"TomatoTopping\" ⊔ \"GorgonzolaTopping\")', '\"Veneziana\"', '\"Napoletana\"', '\"Siciliana\"', '∃hasTopping.\"SlicedTomatoTopping\"', '(\"MozzarellaTopping\" ⊔ \"TomatoTopping\")', '∀hasTopping.(\"MozzarellaTopping\" ⊔ \"OliveTopping\" ⊔ \"CaperTopping\" ⊔ \"TomatoTopping\" ⊔ \"AnchoviesTopping\")', '⩾3hasTopping.⊤', '\"MixedSeafoodTopping\"', '\"PizzaTopping\"', '\"CheesyVegetableTopping\"', '⩽1hasBase.⊤', '∀hasTopping.(\"TomatoTopping\" ⊔ \"FourCheesesTopping\")', '∃hasTopping.\"ArtichokeTopping\"', '\"CajunSpiceTopping\"', '∃hasTopping.\"RocketTopping\"', '∃hasSpiciness.\"Hot\"', '(\"MozzarellaTopping\" ⊔ \"OliveTopping\" ⊔ \"CaperTopping\" ⊔ \"TomatoTopping\" ⊔ \"AnchoviesTopping\")', '∀hasTopping.(\"MozzarellaTopping\" ⊔ \"OliveTopping\" ⊔ \"RocketTopping\" ⊔ \"TomatoTopping\" ⊔ \"GarlicTopping\" ⊔ \"ParmezanTopping\")', '\"PepperTopping\"', '(\"MozzarellaTopping\" ⊔ \"MushroomTopping\" ⊔ \"OliveTopping\" ⊔ \"LeekTopping\" ⊔ \"SlicedTomatoTopping\" ⊔ \"PetitPoisTopping\" ⊔ \"TomatoTopping\" ⊔ \"PeperonataTopping\")', '\"VegetarianTopping\"', '∃hasTopping.\"SpicyTopping\"', '\"Hot\"', '\"ArtichokeTopping\"', '∀hasTopping.(\"MozzarellaTopping\" ⊔ \"SweetPepperTopping\" ⊔ \"TomatoTopping\" ⊔ \"CajunSpiceTopping\" ⊔ \"RedOnionTopping\" ⊔ \"GarlicTopping\" ⊔ \"ChickenTopping\")', '\"Rosa\"', '\"FourSeasons\"', '\"AsparagusTopping\"', '∀hasTopping.(\"NutTopping\" ⊔ \"CheeseTopping\" ⊔ \"HerbSpiceTopping\" ⊔ \"VegetableTopping\" ⊔ \"SauceTopping\" ⊔ \"FruitTopping\")', '∀hasBase.\"ThinAndCrispyBase\"', '\"HotSpicedBeefTopping\"', '∃hasTopping.(∃hasSpiciness.\"Hot\" ⊓ \"PizzaTopping\")', '\"GreenPepperTopping\"', '\"IceCream\"', '(\"MozzarellaTopping\" ⊔ \"TomatoTopping\" ⊔ \"GoatsCheeseTopping\" ⊔ \"SundriedTomatoTopping\")', '∃hasTopping.\"CajunSpiceTopping\"', '(\"NutTopping\" ⊔ \"CheeseTopping\" ⊔ \"HerbSpiceTopping\" ⊔ \"VegetableTopping\" ⊔ \"SauceTopping\" ⊔ \"FruitTopping\")', '∀hasTopping.(\"MozzarellaTopping\" ⊔ \"OliveTopping\" ⊔ \"CaperTopping\" ⊔ \"TomatoTopping\" ⊔ \"PeperonataTopping\" ⊔ \"AnchoviesTopping\" ⊔ \"HamTopping\")', '\"Cajun\"', '∃hasTopping.\"SpinachTopping\"', '(∀hasTopping.\"VegetarianTopping\" ⊓ \"Pizza\")', '\"OliveTopping\"', '(\"Hot\" ⊔ \"Medium\" ⊔ \"Mild\")', '(∀hasTopping.(\"NutTopping\" ⊔ \"CheeseTopping\" ⊔ \"HerbSpiceTopping\" ⊔ \"VegetableTopping\" ⊔ \"SauceTopping\" ⊔ \"FruitTopping\") ⊓ \"Pizza\")', '\"MushroomTopping\"', '\"Food\"', '∃hasTopping.\"FourCheesesTopping\"', '\"LaReine\"', '\"MozzarellaTopping\"', '\"Mushroom\"', '\"SpicyTopping\"']\n"
     ]
    }
   ],
   "source": [
    "# get all concepts occurring in the ontology\n",
    "allConcepts = ontology.getSubConcepts()\n",
    "\n",
    "print()\n",
    "print(\"There are \",len(allConcepts), \" concepts occurring in the ontology\")\n",
    "print(\"These are the concepts occurring in the ontology:\")\n",
    "print([formatter.format(x) for x in allConcepts])"
   ]
  },
  {
   "cell_type": "code",
   "execution_count": 29,
   "metadata": {},
   "outputs": [
    {
     "name": "stdout",
     "output_type": "stream",
     "text": [
      "\n",
      "There are  99  concept names occurring in the ontology\n",
      "These are the concept names: \n",
      "['\"CheesyPizza\"', '\"RosemaryTopping\"', '\"NonVegetarianPizza\"', '\"OliveTopping\"', '\"RocketTopping\"', '\"SpicyPizza\"', '\"NutTopping\"', '\"VegetarianPizza2\"', '\"OnionTopping\"', '\"PizzaTopping\"', '\"FruitTopping\"', '\"Soho\"', '\"VegetarianPizza\"', '\"Cajun\"', '\"SauceTopping\"', '\"ParmezanTopping\"', '\"Hot\"', '\"SweetPepperTopping\"', '\"VegetarianTopping\"', '\"Mild\"', '\"LaReine\"', '\"Napoletana\"', '\"GoatsCheeseTopping\"', '\"PeperoniSausageTopping\"', '\"DeepPanBase\"', '\"PeperonataTopping\"', '\"IceCream\"', '\"Caprina\"', '\"SlicedTomatoTopping\"', '\"Siciliana\"', '\"Giardiniera\"', '\"VegetarianPizza1\"', '\"Capricciosa\"', '\"PetitPoisTopping\"', '\"ChickenTopping\"', '\"ThinAndCrispyBase\"', '\"RealItalianPizza\"', '\"MixedSeafoodTopping\"', '\"SultanaTopping\"', '\"PolloAdAstra\"', '\"TomatoTopping\"', '\"ThinAndCrispyPizza\"', '\"UnclosedPizza\"', '\"CajunSpiceTopping\"', '\"CheeseTopping\"', '\"Parmense\"', '\"AsparagusTopping\"', '\"Fiorentina\"', '\"AmericanHot\"', '\"HerbSpiceTopping\"', '\"VegetableTopping\"', '\"SpinachTopping\"', '\"SpicyPizzaEquivalent\"', '\"PepperTopping\"', '\"Rosa\"', '\"ValuePartition\"', '\"Margherita\"', '\"Country\"', '\"InterestingPizza\"', '\"AnchoviesTopping\"', '\"QuattroFormaggi\"', '\"PizzaBase\"', '\"HotGreenPepperTopping\"', '\"SloppyGiuseppe\"', '\"CaperTopping\"', '\"LeekTopping\"', '\"ArtichokeTopping\"', '\"SundriedTomatoTopping\"', '\"DomainThing\"', '\"Medium\"', '\"MozzarellaTopping\"', '\"ParmaHamTopping\"', '\"MeatTopping\"', '\"GarlicTopping\"', '\"FourSeasons\"', '\"FourCheesesTopping\"', '\"HotSpicedBeefTopping\"', '\"MushroomTopping\"', '\"CheesyVegetableTopping\"', '\"SpicyTopping\"', '\"PineKernelTopping\"', '\"JalapenoPepperTopping\"', '\"FruttiDiMare\"', '\"Veneziana\"', '\"PrawnsTopping\"', '\"Mushroom\"', '\"American\"', '\"Pizza\"', 'NamedPizza', '\"Food\"', '\"HamTopping\"', '\"Spiciness\"', '\"RedOnionTopping\"', '\"MeatyPizza\"', '\"PrinceCarlo\"', '\"TobascoPepperSauceTopping\"', '\"SeafoodTopping\"', '\"GreenPepperTopping\"', '\"GorgonzolaTopping\"']\n"
     ]
    }
   ],
   "source": [
    "# get all conceptNames in the ontology \n",
    "conceptNames = ontology.getConceptNames()\n",
    "\n",
    "print()\n",
    "print(\"There are \", len(conceptNames), \" concept names occurring in the ontology\")\n",
    "print(\"These are the concept names: \")\n",
    "print([formatter.format(x) for x in conceptNames])\n"
   ]
  },
  {
   "cell_type": "code",
   "execution_count": 30,
   "metadata": {},
   "outputs": [
    {
     "name": "stdout",
     "output_type": "stream",
     "text": [
      "\n",
      "Looking for axiom types in EL\n",
      "I found a general concept inclusion:\n",
      "⊤ ⊑ ⩽1hasBase.⊤\n",
      "The left hand side of the axiom is:  ⊤\n",
      "The right hand side of the axiom is:  ⩽1hasBase.⊤\n",
      "\n",
      "I found an equivalence axiom:\n",
      "\"InterestingPizza\" ≡ (⩾3hasTopping.⊤ ⊓ \"Pizza\")\n",
      "The concepts made equivalent are: \n",
      " - \"InterestingPizza\"\n",
      " - (⩾3hasTopping.⊤ ⊓ \"Pizza\")\n",
      "\n"
     ]
    }
   ],
   "source": [
    "# access the type of axioms:\n",
    "foundGCI = False\n",
    "foundEquivalenceAxiom = False\n",
    "print()\n",
    "print(\"Looking for axiom types in EL\")\n",
    "for axiom in axioms:\n",
    "    axiomType = axiom.getClass().getSimpleName() \n",
    "    #print(axiomType)\n",
    "    if(not(foundGCI)\n",
    "       and axiomType == \"GeneralConceptInclusion\"):\n",
    "        print(\"I found a general concept inclusion:\")\n",
    "        print(formatter.format(axiom))\n",
    "        print(\"The left hand side of the axiom is: \", formatter.format(axiom.lhs()))\n",
    "        print(\"The right hand side of the axiom is: \", formatter.format(axiom.rhs()))\n",
    "        print()\n",
    "        foundGCI = True\n",
    "\n",
    "    elif(not(foundEquivalenceAxiom)\n",
    "         and axiomType == \"EquivalenceAxiom\"):\n",
    "        print(\"I found an equivalence axiom:\")\n",
    "        print(formatter.format(axiom))\n",
    "        print(\"The concepts made equivalent are: \")\n",
    "        for concept in axiom.getConcepts():\n",
    "            print(\" - \"+formatter.format(concept))\n",
    "        print()\n",
    "        foundEquivalenceAxiom = True"
   ]
  },
  {
   "cell_type": "code",
   "execution_count": 31,
   "metadata": {},
   "outputs": [
    {
     "name": "stdout",
     "output_type": "stream",
     "text": [
      "\n",
      "Looking for concept types in EL\n",
      "ExistentialRoleRestriction\n",
      "I found an existential role restriction: ∃hasTopping.\"CheeseTopping\"\n",
      "The role is: hasTopping\n",
      "The filler is: \"CheeseTopping\"\n",
      "\n",
      "ConceptDisjunction\n",
      "ConceptName\n",
      "I found a concept name: \"American\"\n",
      "\n",
      "UniversalRoleRestriction\n",
      "ConceptComplement\n",
      "ConceptConjunction\n",
      "I found a conjunction: (\"Pizza\" ⊓ ∀hasBase.\"ThinAndCrispyBase\")\n",
      "The conjuncts are: \n",
      " - \"Pizza\"\n",
      "<class 'str'>\n",
      " - ∀hasBase.\"ThinAndCrispyBase\"\n",
      "<class 'str'>\n",
      "\n",
      "MaxNumberRestriction\n",
      "NominalSet\n",
      "TopConcept$\n",
      "I found the top concept: ⊤\n",
      "\n",
      "MinNumberRestriction\n"
     ]
    }
   ],
   "source": [
    "# accessing the relevant types of concepts:\n",
    "foundConceptName=False\n",
    "foundTop=False\n",
    "foundExistential=False\n",
    "foundConjunction=False\n",
    "foundConceptTypes = set()\n",
    "\n",
    "print()\n",
    "print(\"Looking for concept types in EL\")\n",
    "for concept in allConcepts:\n",
    "    conceptType = concept.getClass().getSimpleName()\n",
    "    if(not(conceptType in foundConceptTypes)): \n",
    "        print(conceptType)\n",
    "        foundConceptTypes.add(conceptType)\n",
    "    if(not(foundConceptName) and conceptType == \"ConceptName\"):\n",
    "        print(\"I found a concept name: \"+formatter.format(concept))\n",
    "        print()\n",
    "        foundConceptName = True\n",
    "    elif(not(foundTop) and conceptType == \"TopConcept$\"):\n",
    "        print(\"I found the top concept: \"+formatter.format(concept))\n",
    "        print()\n",
    "        foundTop = True\n",
    "    elif(not(foundExistential) and conceptType == \"ExistentialRoleRestriction\"):\n",
    "        print(\"I found an existential role restriction: \"+formatter.format(concept))\n",
    "        print(\"The role is: \"+formatter.format(concept.role()))\n",
    "        print(\"The filler is: \"+formatter.format(concept.filler()))\n",
    "        print()\n",
    "        foundExistential = True\n",
    "    elif(not(foundConjunction) and conceptType == \"ConceptConjunction\"):\n",
    "        print(\"I found a conjunction: \"+formatter.format(concept))\n",
    "        print(\"The conjuncts are: \")\n",
    "        for conjunct in concept.getConjuncts():\n",
    "            print(\" - \"+formatter.format(conjunct))\n",
    "            print(type(formatter.format(conjunct)))\n",
    "        print()\n",
    "        foundConjunction=True"
   ]
  },
  {
   "cell_type": "code",
   "execution_count": 32,
   "metadata": {},
   "outputs": [
    {
     "name": "stdout",
     "output_type": "stream",
     "text": [
      "I made the following GCI:\n",
      "(A ⊓ B) ⊑ (⊤ ⊓ ∃r.(A ⊓ B))\n"
     ]
    }
   ],
   "source": [
    "# Creating EL concepts and axioms\n",
    "\n",
    "elFactory = gateway.getELFactory()\n",
    "\n",
    "conceptA = elFactory.getConceptName(\"A\")\n",
    "conceptB = elFactory.getConceptName(\"B\")\n",
    "conjunctionAB = elFactory.getConjunction(conceptA, conceptB)\n",
    "role = elFactory.getRole(\"r\")\n",
    "existential = elFactory.getExistentialRoleRestriction(role,conjunctionAB)\n",
    "top = elFactory.getTop()\n",
    "conjunction2 = elFactory.getConjunction(top,existential)\n",
    "\n",
    "gci = elFactory.getGCI(conjunctionAB,conjunction2)\n",
    "\n",
    "print(\"I made the following GCI:\")\n",
    "print(formatter.format(gci))"
   ]
  },
  {
   "cell_type": "code",
   "execution_count": 18,
   "metadata": {},
   "outputs": [
    {
     "name": "stdout",
     "output_type": "stream",
     "text": [
      "∃r.∃r.(A ⊓ B)\n",
      "Role r, Concept that follows ∃r.(A ⊓ B)\n"
     ]
    }
   ],
   "source": [
    "existential2 = elFactory.getExistentialRoleRestriction(role,existential)\n",
    "y = formatter.format(existential2)\n",
    "print(y)\n",
    "existential2.getClass().getSimpleName()\n",
    "role = y[1:].split(\".\")\n",
    "print(f\"Role {role[0]}, Concept that follows {'.'.join(role[1:])}\")\n"
   ]
  },
  {
   "cell_type": "code",
   "execution_count": 56,
   "metadata": {},
   "outputs": [
    {
     "ename": "Py4JJavaError",
     "evalue": "An error occurred while calling o375779.add.\n: java.lang.UnsupportedOperationException\r\n\tat java.base/java.util.AbstractCollection.add(AbstractCollection.java:253)\r\n\tat java.base/jdk.internal.reflect.DirectMethodHandleAccessor.invoke(DirectMethodHandleAccessor.java:103)\r\n\tat java.base/java.lang.reflect.Method.invoke(Method.java:580)\r\n\tat py4j.reflection.MethodInvoker.invoke(MethodInvoker.java:244)\r\n\tat py4j.reflection.ReflectionEngine.invoke(ReflectionEngine.java:357)\r\n\tat py4j.Gateway.invoke(Gateway.java:282)\r\n\tat py4j.commands.AbstractCommand.invokeMethod(AbstractCommand.java:132)\r\n\tat py4j.commands.CallCommand.execute(CallCommand.java:79)\r\n\tat py4j.GatewayConnection.run(GatewayConnection.java:238)\r\n\tat java.base/java.lang.Thread.run(Thread.java:1575)\r\n",
     "output_type": "error",
     "traceback": [
      "\u001b[1;31m---------------------------------------------------------------------------\u001b[0m",
      "\u001b[1;31mPy4JJavaError\u001b[0m                             Traceback (most recent call last)",
      "Cell \u001b[1;32mIn[56], line 1\u001b[0m\n\u001b[1;32m----> 1\u001b[0m \u001b[43maxioms\u001b[49m\u001b[38;5;241;43m.\u001b[39;49m\u001b[43madd\u001b[49m\u001b[43m(\u001b[49m\u001b[43mexistential2\u001b[49m\u001b[43m)\u001b[49m\n",
      "File \u001b[1;32mc:\\Users\\agdse\\anaconda3\\envs\\kr\\Lib\\site-packages\\py4j\\java_collections.py:121\u001b[0m, in \u001b[0;36mJavaSet.add\u001b[1;34m(self, value)\u001b[0m\n\u001b[0;32m    120\u001b[0m \u001b[38;5;28;01mdef\u001b[39;00m \u001b[38;5;21madd\u001b[39m(\u001b[38;5;28mself\u001b[39m, value):\n\u001b[1;32m--> 121\u001b[0m     \u001b[38;5;28;43mself\u001b[39;49m\u001b[38;5;241;43m.\u001b[39;49m\u001b[43m_add\u001b[49m\u001b[43m(\u001b[49m\u001b[43mvalue\u001b[49m\u001b[43m)\u001b[49m\n",
      "File \u001b[1;32mc:\\Users\\agdse\\anaconda3\\envs\\kr\\Lib\\site-packages\\py4j\\java_gateway.py:1322\u001b[0m, in \u001b[0;36mJavaMember.__call__\u001b[1;34m(self, *args)\u001b[0m\n\u001b[0;32m   1316\u001b[0m command \u001b[38;5;241m=\u001b[39m proto\u001b[38;5;241m.\u001b[39mCALL_COMMAND_NAME \u001b[38;5;241m+\u001b[39m\\\n\u001b[0;32m   1317\u001b[0m     \u001b[38;5;28mself\u001b[39m\u001b[38;5;241m.\u001b[39mcommand_header \u001b[38;5;241m+\u001b[39m\\\n\u001b[0;32m   1318\u001b[0m     args_command \u001b[38;5;241m+\u001b[39m\\\n\u001b[0;32m   1319\u001b[0m     proto\u001b[38;5;241m.\u001b[39mEND_COMMAND_PART\n\u001b[0;32m   1321\u001b[0m answer \u001b[38;5;241m=\u001b[39m \u001b[38;5;28mself\u001b[39m\u001b[38;5;241m.\u001b[39mgateway_client\u001b[38;5;241m.\u001b[39msend_command(command)\n\u001b[1;32m-> 1322\u001b[0m return_value \u001b[38;5;241m=\u001b[39m \u001b[43mget_return_value\u001b[49m\u001b[43m(\u001b[49m\n\u001b[0;32m   1323\u001b[0m \u001b[43m    \u001b[49m\u001b[43manswer\u001b[49m\u001b[43m,\u001b[49m\u001b[43m \u001b[49m\u001b[38;5;28;43mself\u001b[39;49m\u001b[38;5;241;43m.\u001b[39;49m\u001b[43mgateway_client\u001b[49m\u001b[43m,\u001b[49m\u001b[43m \u001b[49m\u001b[38;5;28;43mself\u001b[39;49m\u001b[38;5;241;43m.\u001b[39;49m\u001b[43mtarget_id\u001b[49m\u001b[43m,\u001b[49m\u001b[43m \u001b[49m\u001b[38;5;28;43mself\u001b[39;49m\u001b[38;5;241;43m.\u001b[39;49m\u001b[43mname\u001b[49m\u001b[43m)\u001b[49m\n\u001b[0;32m   1325\u001b[0m \u001b[38;5;28;01mfor\u001b[39;00m temp_arg \u001b[38;5;129;01min\u001b[39;00m temp_args:\n\u001b[0;32m   1326\u001b[0m     \u001b[38;5;28;01mif\u001b[39;00m \u001b[38;5;28mhasattr\u001b[39m(temp_arg, \u001b[38;5;124m\"\u001b[39m\u001b[38;5;124m_detach\u001b[39m\u001b[38;5;124m\"\u001b[39m):\n",
      "File \u001b[1;32mc:\\Users\\agdse\\anaconda3\\envs\\kr\\Lib\\site-packages\\py4j\\protocol.py:326\u001b[0m, in \u001b[0;36mget_return_value\u001b[1;34m(answer, gateway_client, target_id, name)\u001b[0m\n\u001b[0;32m    324\u001b[0m value \u001b[38;5;241m=\u001b[39m OUTPUT_CONVERTER[\u001b[38;5;28mtype\u001b[39m](answer[\u001b[38;5;241m2\u001b[39m:], gateway_client)\n\u001b[0;32m    325\u001b[0m \u001b[38;5;28;01mif\u001b[39;00m answer[\u001b[38;5;241m1\u001b[39m] \u001b[38;5;241m==\u001b[39m REFERENCE_TYPE:\n\u001b[1;32m--> 326\u001b[0m     \u001b[38;5;28;01mraise\u001b[39;00m Py4JJavaError(\n\u001b[0;32m    327\u001b[0m         \u001b[38;5;124m\"\u001b[39m\u001b[38;5;124mAn error occurred while calling \u001b[39m\u001b[38;5;132;01m{0}\u001b[39;00m\u001b[38;5;132;01m{1}\u001b[39;00m\u001b[38;5;132;01m{2}\u001b[39;00m\u001b[38;5;124m.\u001b[39m\u001b[38;5;130;01m\\n\u001b[39;00m\u001b[38;5;124m\"\u001b[39m\u001b[38;5;241m.\u001b[39m\n\u001b[0;32m    328\u001b[0m         \u001b[38;5;28mformat\u001b[39m(target_id, \u001b[38;5;124m\"\u001b[39m\u001b[38;5;124m.\u001b[39m\u001b[38;5;124m\"\u001b[39m, name), value)\n\u001b[0;32m    329\u001b[0m \u001b[38;5;28;01melse\u001b[39;00m:\n\u001b[0;32m    330\u001b[0m     \u001b[38;5;28;01mraise\u001b[39;00m Py4JError(\n\u001b[0;32m    331\u001b[0m         \u001b[38;5;124m\"\u001b[39m\u001b[38;5;124mAn error occurred while calling \u001b[39m\u001b[38;5;132;01m{0}\u001b[39;00m\u001b[38;5;132;01m{1}\u001b[39;00m\u001b[38;5;132;01m{2}\u001b[39;00m\u001b[38;5;124m. Trace:\u001b[39m\u001b[38;5;130;01m\\n\u001b[39;00m\u001b[38;5;132;01m{3}\u001b[39;00m\u001b[38;5;130;01m\\n\u001b[39;00m\u001b[38;5;124m\"\u001b[39m\u001b[38;5;241m.\u001b[39m\n\u001b[0;32m    332\u001b[0m         \u001b[38;5;28mformat\u001b[39m(target_id, \u001b[38;5;124m\"\u001b[39m\u001b[38;5;124m.\u001b[39m\u001b[38;5;124m\"\u001b[39m, name, value))\n",
      "\u001b[1;31mPy4JJavaError\u001b[0m: An error occurred while calling o375779.add.\n: java.lang.UnsupportedOperationException\r\n\tat java.base/java.util.AbstractCollection.add(AbstractCollection.java:253)\r\n\tat java.base/jdk.internal.reflect.DirectMethodHandleAccessor.invoke(DirectMethodHandleAccessor.java:103)\r\n\tat java.base/java.lang.reflect.Method.invoke(Method.java:580)\r\n\tat py4j.reflection.MethodInvoker.invoke(MethodInvoker.java:244)\r\n\tat py4j.reflection.ReflectionEngine.invoke(ReflectionEngine.java:357)\r\n\tat py4j.Gateway.invoke(Gateway.java:282)\r\n\tat py4j.commands.AbstractCommand.invokeMethod(AbstractCommand.java:132)\r\n\tat py4j.commands.CallCommand.execute(CallCommand.java:79)\r\n\tat py4j.GatewayConnection.run(GatewayConnection.java:238)\r\n\tat java.base/java.lang.Thread.run(Thread.java:1575)\r\n"
     ]
    }
   ],
   "source": [
    "axioms.add(existential2)"
   ]
  },
  {
   "cell_type": "code",
   "execution_count": 19,
   "metadata": {},
   "outputs": [
    {
     "name": "stdout",
     "output_type": "stream",
     "text": [
      "{0: 1}\n"
     ]
    }
   ],
   "source": [
    "z = {}\n",
    "z[0] = 1\n",
    "print(z)"
   ]
  },
  {
   "cell_type": "code",
   "execution_count": null,
   "metadata": {},
   "outputs": [
    {
     "name": "stdout",
     "output_type": "stream",
     "text": [
      "\n",
      "I am first testing ELK.\n",
      "\n",
      "According to ELK, Margherita has the following subsumers: \n",
      "( 7  in total)\n",
      "\n",
      "I can also classify the ontology with ELK.\n",
      "But I am not printing the result, because that would be too much stuff (it is a dictionary)\n",
      "\n",
      "\n",
      "I am now testing HermiT.\n",
      "\n",
      "According to HermiT, Margherita has the following subsumers: \n",
      "( 10  in total)\n",
      "\n",
      "I can also classify the ontology with HermiT\n",
      "But I am not printing the result, because that would be too much stuff (it is a dictionary)\n",
      "\n"
     ]
    }
   ],
   "source": [
    "# Using the reasoners\n",
    "\n",
    "elk = gateway.getELKReasoner()\n",
    "hermit = gateway.getHermiTReasoner() # might the upper case T!\n",
    "\n",
    "margherita = elFactory.getConceptName('\"Margherita\"')\n",
    "\n",
    "print()\n",
    "print(\"I am first testing ELK.\")\n",
    "elk.setOntology(ontology)\n",
    "print()\n",
    "print(\"According to ELK, Margherita has the following subsumers: \")\n",
    "subsumers = elk.getSubsumers(margherita)\n",
    "for concept in subsumers:\n",
    "    print(\" - \",formatter.format(concept))\n",
    "print(\"(\",len(subsumers),\" in total)\")\n",
    "print()\n",
    "print(\"I can also classify the ontology with ELK.\")\n",
    "classificationResult = elk.classify()\n",
    "print(\"But I am not printing the result, because that would be too much stuff (it is a dictionary)\")\n",
    "print()\n",
    "\n",
    "print()\n",
    "print(\"I am now testing HermiT.\")\n",
    "hermit.setOntology(ontology)\n",
    "print()\n",
    "print(\"According to HermiT, Margherita has the following subsumers: \")\n",
    "subsumers = hermit.getSubsumers(margherita)\n",
    "for concept in subsumers:\n",
    "    print(\" - \",formatter.format(concept))\n",
    "    print()\n",
    "print(\"(\",len(subsumers),\" in total)\")\n",
    "print()\n",
    "print(\"I can also classify the ontology with HermiT\")\n",
    "classificationResult = hermit.classify()\n",
    "print(\"But I am not printing the result, because that would be too much stuff (it is a dictionary)\")\n",
    "print()"
   ]
  },
  {
   "cell_type": "markdown",
   "metadata": {},
   "source": [
    "## Notes:\n",
    "\n",
    "Getting Started\n",
    "- The parser is used to convert a owl file into a java file which we can manipulate\n",
    "    - We extract the ontology by doing parser.parsefile(file)\n",
    "- To make the ontology usable for the algorithm we need to convert it into binary conjuntives\n",
    "    - Usage: gateway.convertToBinaryConjunctions(ontology)\n",
    "\n",
    "Axioms:\n",
    "- Axioms are in the tbox thus we do: axioms = ontology.tbox().getAxioms()\n",
    "- We get the axiom type by axiom.getClass().getSimpleName()\n",
    "    - GCI is subsumtion/subsetting\n",
    "\n",
    "Concepts: \n",
    "- All concepts are Java Objects and you convert them to DL by doing formatter.format(concept)\n",
    "- We get all concepts in the ontology using ontology.getSubConcepts()\n",
    "    - This gives us all comple concepts and basic conepts\n",
    "- Concept types are extracted through: concept.getClass().getSimpleName() \n",
    "- Concept types: \n",
    "    - ConceptName\n",
    "    - TopConcept$\n",
    "    - ExistentialRoleRestriction\n",
    "    - ConceptConjunction\n",
    "\n",
    "\n",
    "EL \n",
    "- You construct el concepts through object: elF = gateway.getELFactory()\n",
    "- Concepts are created through c1 = elF.getConceptName(\"c1\")\n",
    "- Conjunctions are made using elFgetConjuntion(c1, c2)\n",
    "- Roles are created as r = elF.getRole(\"r\")\n",
    "- Existential roles are made exist = elF.getExistentialRoleRestriction(role,conjunctionAB)\n",
    "- Top is made by elF.getTop()\n",
    "- GCI is given by elf.getGCI(concept1, concept2)\n",
    "- All biinary constructors read left to right \n",
    "\n",
    "Reasoner\n",
    "- Can use elk = gateway.getELKReasoner(), hermit = gateway.getHermiTReasoner(); as reasoners\n",
    "- Feed ontology onto reasoner by reasoner.setOntology(ontology)\n",
    "- Reason Subsumption: reasoner.getSubsumers(concept)\n",
    "- Reason classification: reasoner.classify()\n",
    "    - Classification output is a dictionary\n"
   ]
  },
  {
   "cell_type": "code",
   "execution_count": 14,
   "metadata": {},
   "outputs": [
    {
     "name": "stdout",
     "output_type": "stream",
     "text": [
      "5\n",
      "6\n"
     ]
    }
   ],
   "source": [
    "dic = {0: {1: 5, 2 : 0}, 1: {1: 6, 2 : 1}}\n",
    "\n",
    "for val, key in dic.items():\n",
    "    print(key[1])\n",
    "\n"
   ]
  },
  {
   "cell_type": "code",
   "execution_count": 20,
   "metadata": {},
   "outputs": [
    {
     "data": {
      "text/plain": [
       "'something'"
      ]
     },
     "execution_count": 20,
     "metadata": {},
     "output_type": "execute_result"
    }
   ],
   "source": [
    "x = \"3something.C\"\n",
    "x[1:].split(\".\")[0]"
   ]
  },
  {
   "cell_type": "code",
   "execution_count": 2,
   "metadata": {},
   "outputs": [
    {
     "data": {
      "text/plain": [
       "False"
      ]
     },
     "execution_count": 2,
     "metadata": {},
     "output_type": "execute_result"
    }
   ],
   "source": [
    "\"a\" in [\"there\", \"is\", \"a tomato\"]"
   ]
  },
  {
   "cell_type": "code",
   "execution_count": null,
   "metadata": {},
   "outputs": [
    {
     "data": {
      "text/plain": [
       "[1, 2, 3, 5]"
      ]
     },
     "execution_count": 22,
     "metadata": {},
     "output_type": "execute_result"
    }
   ],
   "source": [
    "x = {0 : {\"c\": [1,2,3], \"s\": [4, 5, 6], \"a\" : [7, 8, 9]}}\n",
    "x[0][\"c\"]\n",
    "x[0][\"c\"]"
   ]
  },
  {
   "cell_type": "code",
   "execution_count": 24,
   "metadata": {},
   "outputs": [
    {
     "data": {
      "text/plain": [
       "[]"
      ]
     },
     "execution_count": 24,
     "metadata": {},
     "output_type": "execute_result"
    }
   ],
   "source": [
    "ind = {0:{'concepts': [], 'roles': []}}\n",
    "ind[0][\"concepts\"]"
   ]
  },
  {
   "cell_type": "code",
   "execution_count": null,
   "metadata": {},
   "outputs": [
    {
     "name": "stdout",
     "output_type": "stream",
     "text": [
      "0\n",
      "1\n",
      "2\n",
      "3\n",
      "4\n",
      "5\n",
      "[1, 2, 3, 4, 5, 6, 6]\n"
     ]
    }
   ],
   "source": [
    "x = [1,2,3,4,5,6]\n",
    "y = len(x)\n",
    "for i in range(len(x)):\n",
    "    print(i)\n",
    "    if i == 5:\n",
    "        x.append(i+2)\n",
    "print(x)"
   ]
  },
  {
   "cell_type": "code",
   "execution_count": null,
   "metadata": {},
   "outputs": [
    {
     "data": {
      "text/plain": [
       "{1, 2}"
      ]
     },
     "execution_count": 49,
     "metadata": {},
     "output_type": "execute_result"
    }
   ],
   "source": [
    "x = set([1])\n",
    "x.update([2])\n",
    "x"
   ]
  }
 ],
 "metadata": {
  "kernelspec": {
   "display_name": "kr",
   "language": "python",
   "name": "python3"
  },
  "language_info": {
   "codemirror_mode": {
    "name": "ipython",
    "version": 3
   },
   "file_extension": ".py",
   "mimetype": "text/x-python",
   "name": "python",
   "nbconvert_exporter": "python",
   "pygments_lexer": "ipython3",
   "version": "3.13.1"
  }
 },
 "nbformat": 4,
 "nbformat_minor": 2
}
